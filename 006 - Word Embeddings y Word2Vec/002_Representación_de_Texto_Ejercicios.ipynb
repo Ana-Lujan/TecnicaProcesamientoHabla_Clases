{
  "nbformat": 4,
  "nbformat_minor": 0,
  "metadata": {
    "colab": {
      "provenance": []
    },
    "kernelspec": {
      "name": "python3",
      "display_name": "Python 3"
    },
    "language_info": {
      "name": "python"
    }
  },
  "cells": [
    {
      "cell_type": "markdown",
      "source": [
        "# 7. Micro-Laboratorio (Ejercicio Práctico)\n",
        "\n",
        "**Consigna:**\n",
        "\n",
        "Usando las `reviews` y las funciones de preprocesamiento de clases previas (o volviendo a procesarlas ahora):\n",
        "1.  Asegúrate de tener la lista de `reviews_preprocesadas` (cada elemento es un string con los lemas unidos por espacios). Si no la tenés, generála usando la función `preprocesar_texto_para_vectorizar` sobre las `reviews` originales.\n",
        "2.  **Crear Matriz BoW:**\n",
        "    *   Instancia un `CountVectorizer`.\n",
        "    *   Aplícalo a las `reviews_preprocesadas` usando `fit_transform()`.\n",
        "    *   Obtén el vocabulario (`get_feature_names_out()`).\n",
        "    *   Crea un DataFrame de Pandas para visualizar la matriz BoW.\n",
        "3.  **Crear Matriz TF-IDF:**\n",
        "    *   Instancia un `TfidfVectorizer`.\n",
        "    *   Aplícalo a las **mismas** `reviews_preprocesadas` usando `fit_transform()`.\n",
        "    *   **Importante:** Para comparar fácil, puedes pasarle el vocabulario aprendido por el CountVectorizer al TfidfVectorizer usando el argumento `vocabulary=`. O viceversa. La idea es que ambas matrices usen las mismas columnas en el mismo orden.\n",
        "    *   Crea un DataFrame de Pandas para visualizar la matriz TF-IDF (redondea los valores a 3 decimales).\n",
        "4.  **Analizar:**\n",
        "    *   Imprime ambas matrices.\n",
        "    *   Elige una o dos reviews. ¿Qué palabras tienen los pesos más altos en TF-IDF para esa review? ¿Coincide con lo que esperarías que sean las palabras clave de esa review?\n",
        "    *   Busca alguna palabra que tenga un conteo > 0 en BoW pero un peso TF-IDF relativamente bajo. ¿Por qué podría ser? (Pista: ¿aparece en muchas reviews?)."
      ],
      "metadata": {
        "id": "ANf9C4_AuURY"
      }
    },
    {
      "cell_type": "code",
      "source": [
        "# Dataset (el mismo del martes)\n",
        "reviews = [\n",
        "    \"Una película emocionante con actuaciones brillantes. ¡Me encantó!\",\n",
        "    \"Muy aburrida y lenta. El guión era predecible y los actores no convencían.\",\n",
        "    \"Los efectos especiales fueron impresionantes, pero la historia dejaba mucho que desear.\",\n",
        "    \"¡Qué gran comedia! Me reí sin parar durante toda la película.\",\n",
        "    \"Un documental necesario que aborda temas importantes con profundidad y sensibilidad.\"\n",
        "]"
      ],
      "metadata": {
        "id": "PvDlLzuwqLgc"
      },
      "execution_count": null,
      "outputs": []
    },
    {
      "cell_type": "code",
      "source": [
        "# 1. Importamos librerías necesarias\n",
        "import spacy\n",
        "from spacy.lang.es.stop_words import STOP_WORDS\n",
        "from sklearn.feature_extraction.text import CountVectorizer, TfidfVectorizer\n",
        "import pandas as pd\n",
        "\n",
        "# 2. Cargamos modelo spaCy\n",
        "nlp = spacy.load(\"es_core_news_sm\")\n",
        "\n",
        "# 3. Dataset de reseñas\n",
        "reviews = [\n",
        "    \"Una película emocionante con actuaciones brillantes. ¡Me encantó!\",\n",
        "    \"Muy aburrida y lenta. El guión era predecible y los actores no convencían.\",\n",
        "    \"Los efectos especiales fueron impresionantes, pero la historia dejaba mucho que desear.\",\n",
        "    \"¡Qué gran comedia! Me reí sin parar durante toda la película.\",\n",
        "    \"Un documental necesario que aborda temas importantes con profundidad y sensibilidad.\"\n",
        "]\n",
        "\n",
        "# 4. Personalizamos stopwords\n",
        "STOP_WORDS.update([\"película\", \"film\", \"cine\"])\n",
        "STOP_WORDS.discard(\"necesario\")  # palabra importante en contexto\n",
        "\n",
        "# 5. Función para preprocesar texto\n",
        "def preprocesar_texto_para_vectorizar(texto):\n",
        "    doc = nlp(texto)\n",
        "    lemas = [token.lemma_ for token in doc\n",
        "             if not token.is_stop and token.is_alpha and token.pos_ in ['NOUN', 'ADJ']]\n",
        "    return \" \".join(lemas)\n",
        "\n",
        "# 6. Aplicamos función a las reviews\n",
        "reviews_preprocesadas = [preprocesar_texto_para_vectorizar(r) for r in reviews]\n",
        "\n",
        "# 7. CountVectorizer (BoW)\n",
        "vectorizer_bow = CountVectorizer()\n",
        "X_bow = vectorizer_bow.fit_transform(reviews_preprocesadas)\n",
        "vocabulario = vectorizer_bow.get_feature_names_out()\n",
        "\n",
        "# 8. Visualizamos matriz BoW\n",
        "df_bow = pd.DataFrame(X_bow.toarray(), columns=vocabulario)\n",
        "print(\"Matriz BoW:\")\n",
        "print(df_bow)\n",
        "\n",
        "# 9. TfidfVectorizer (usando el mismo vocabulario)\n",
        "vectorizer_tfidf = TfidfVectorizer(vocabulary=vocabulario)\n",
        "X_tfidf = vectorizer_tfidf.fit_transform(reviews_preprocesadas)\n",
        "\n",
        "# 10. Visualizamos matriz TF-IDF\n",
        "df_tfidf = pd.DataFrame(X_tfidf.toarray(), columns=vocabulario)\n",
        "df_tfidf = df_tfidf.round(3)\n",
        "print(\"\\nMatriz TF-IDF:\")\n",
        "print(df_tfidf)\n"
      ],
      "metadata": {
        "colab": {
          "base_uri": "https://localhost:8080/"
        },
        "id": "N9AzhXO0o-Jk",
        "outputId": "b9e1b643-466c-42a9-81ce-446748045640"
      },
      "execution_count": null,
      "outputs": [
        {
          "output_type": "stream",
          "name": "stdout",
          "text": [
            "Matriz BoW:\n",
            "   aburrido  actor  actuación  brillante  comedia  documental  efecto  \\\n",
            "0         0      0          1          1        0           0       0   \n",
            "1         1      1          0          0        0           0       0   \n",
            "2         0      0          0          0        0           0       1   \n",
            "3         0      0          0          0        1           0       0   \n",
            "4         0      0          0          0        0           1       0   \n",
            "\n",
            "   emocionante  especial  guión  historia  importante  impresionante  lento  \\\n",
            "0            1         0      0         0           0              0      0   \n",
            "1            0         0      1         0           0              0      1   \n",
            "2            0         1      0         1           0              1      0   \n",
            "3            0         0      0         0           0              0      0   \n",
            "4            0         0      0         0           1              0      0   \n",
            "\n",
            "   necesario  predecible  profundidad  sensibilidad  tema  \n",
            "0          0           0            0             0     0  \n",
            "1          0           1            0             0     0  \n",
            "2          0           0            0             0     0  \n",
            "3          0           0            0             0     0  \n",
            "4          1           0            1             1     1  \n",
            "\n",
            "Matriz TF-IDF:\n",
            "   aburrido  actor  actuación  brillante  comedia  documental  efecto  \\\n",
            "0     0.000  0.000      0.577      0.577      0.0       0.000     0.0   \n",
            "1     0.447  0.447      0.000      0.000      0.0       0.000     0.0   \n",
            "2     0.000  0.000      0.000      0.000      0.0       0.000     0.5   \n",
            "3     0.000  0.000      0.000      0.000      1.0       0.000     0.0   \n",
            "4     0.000  0.000      0.000      0.000      0.0       0.408     0.0   \n",
            "\n",
            "   emocionante  especial  guión  historia  importante  impresionante  lento  \\\n",
            "0        0.577       0.0  0.000       0.0       0.000            0.0  0.000   \n",
            "1        0.000       0.0  0.447       0.0       0.000            0.0  0.447   \n",
            "2        0.000       0.5  0.000       0.5       0.000            0.5  0.000   \n",
            "3        0.000       0.0  0.000       0.0       0.000            0.0  0.000   \n",
            "4        0.000       0.0  0.000       0.0       0.408            0.0  0.000   \n",
            "\n",
            "   necesario  predecible  profundidad  sensibilidad   tema  \n",
            "0      0.000       0.000        0.000         0.000  0.000  \n",
            "1      0.000       0.447        0.000         0.000  0.000  \n",
            "2      0.000       0.000        0.000         0.000  0.000  \n",
            "3      0.000       0.000        0.000         0.000  0.000  \n",
            "4      0.408       0.000        0.408         0.408  0.408  \n"
          ]
        }
      ]
    },
    {
      "cell_type": "code",
      "source": [
        "print(\"Conteo en BoW:\")\n",
        "print(df_bow[\"historia\"])\n",
        "\n",
        "print(\"\\nPeso TF-IDF:\")\n",
        "print(df_tfidf[\"historia\"])\n"
      ],
      "metadata": {
        "colab": {
          "base_uri": "https://localhost:8080/"
        },
        "id": "006jwWcBpJMy",
        "outputId": "c3568adb-a4a0-4d10-b4c2-4b6144bafa09"
      },
      "execution_count": null,
      "outputs": [
        {
          "output_type": "stream",
          "name": "stdout",
          "text": [
            "Conteo en BoW:\n",
            "0    0\n",
            "1    0\n",
            "2    1\n",
            "3    0\n",
            "4    0\n",
            "Name: historia, dtype: int64\n",
            "\n",
            "Peso TF-IDF:\n",
            "0    0.0\n",
            "1    0.0\n",
            "2    0.5\n",
            "3    0.0\n",
            "4    0.0\n",
            "Name: historia, dtype: float64\n"
          ]
        }
      ]
    },
    {
      "cell_type": "code",
      "source": [
        "!pip install wordcloud matplotlib\n"
      ],
      "metadata": {
        "colab": {
          "base_uri": "https://localhost:8080/"
        },
        "id": "IUFzaXhapWgI",
        "outputId": "490b2a16-4ffc-43ee-e0eb-fca00269dc6b"
      },
      "execution_count": null,
      "outputs": [
        {
          "output_type": "stream",
          "name": "stdout",
          "text": [
            "Requirement already satisfied: wordcloud in /usr/local/lib/python3.11/dist-packages (1.9.4)\n",
            "Requirement already satisfied: matplotlib in /usr/local/lib/python3.11/dist-packages (3.10.0)\n",
            "Requirement already satisfied: numpy>=1.6.1 in /usr/local/lib/python3.11/dist-packages (from wordcloud) (2.0.2)\n",
            "Requirement already satisfied: pillow in /usr/local/lib/python3.11/dist-packages (from wordcloud) (11.2.1)\n",
            "Requirement already satisfied: contourpy>=1.0.1 in /usr/local/lib/python3.11/dist-packages (from matplotlib) (1.3.2)\n",
            "Requirement already satisfied: cycler>=0.10 in /usr/local/lib/python3.11/dist-packages (from matplotlib) (0.12.1)\n",
            "Requirement already satisfied: fonttools>=4.22.0 in /usr/local/lib/python3.11/dist-packages (from matplotlib) (4.58.2)\n",
            "Requirement already satisfied: kiwisolver>=1.3.1 in /usr/local/lib/python3.11/dist-packages (from matplotlib) (1.4.8)\n",
            "Requirement already satisfied: packaging>=20.0 in /usr/local/lib/python3.11/dist-packages (from matplotlib) (24.2)\n",
            "Requirement already satisfied: pyparsing>=2.3.1 in /usr/local/lib/python3.11/dist-packages (from matplotlib) (3.2.3)\n",
            "Requirement already satisfied: python-dateutil>=2.7 in /usr/local/lib/python3.11/dist-packages (from matplotlib) (2.9.0.post0)\n",
            "Requirement already satisfied: six>=1.5 in /usr/local/lib/python3.11/dist-packages (from python-dateutil>=2.7->matplotlib) (1.17.0)\n"
          ]
        }
      ]
    },
    {
      "cell_type": "code",
      "source": [
        "import matplotlib.pyplot as plt\n",
        "from wordcloud import WordCloud"
      ],
      "metadata": {
        "id": "miRAw101pwR-"
      },
      "execution_count": null,
      "outputs": []
    },
    {
      "cell_type": "code",
      "source": [
        "# Review 0: \"Una película emocionante con actuaciones brillantes. ¡Me encantó!\"\n",
        "\n",
        "# Creamos WordCloud con los pesos TF-IDF de esa review\n",
        "wc = WordCloud(background_color='white')\n",
        "\n",
        "# Convertimos esa fila del DataFrame a diccionario\n",
        "frecuencias = df_tfidf.iloc[0].to_dict()\n",
        "\n",
        "# Generamos la nube de palabras\n",
        "wc.generate_from_frequencies(frecuencias)\n",
        "\n",
        "# Mostramos la imagen\n",
        "plt.figure(figsize=(6, 4))\n",
        "plt.imshow(wc, interpolation='bilinear')\n",
        "plt.axis('off')\n",
        "plt.title(\"WordCloud - Review 1\")\n",
        "plt.show()\n"
      ],
      "metadata": {
        "colab": {
          "base_uri": "https://localhost:8080/",
          "height": 291
        },
        "id": "V3EwoJBOp1zS",
        "outputId": "39de9b87-4669-46a7-ee94-6a3f333d65e1"
      },
      "execution_count": null,
      "outputs": [
        {
          "output_type": "display_data",
          "data": {
            "text/plain": [
              "<Figure size 600x400 with 1 Axes>"
            ],
            "image/png": "[encoded data removed]"
          },
          "metadata": {}
        }
      ]
    },
    {
      "cell_type": "code",
      "source": [
        "# Tomamos la fila 0 y ordenamos las palabras por peso TF-IDF\n",
        "top_palabras = df_tfidf.iloc[0].sort_values(ascending=False).head(5)\n",
        "\n",
        "# Creamos el gráfico de barras\n",
        "plt.figure(figsize=(6, 4))\n",
        "top_palabras.plot(kind='bar', color='skyblue')\n",
        "plt.title(\"Top 5 palabras TF-IDF - Review 1\")\n",
        "plt.ylabel(\"Peso TF-IDF\")\n",
        "plt.xticks(rotation=45)\n",
        "plt.tight_layout()\n",
        "plt.show()\n"
      ],
      "metadata": {
        "colab": {
          "base_uri": "https://localhost:8080/",
          "height": 407
        },
        "id": "hhYpayY9p6Pk",
        "outputId": "4fd2fcea-1d5b-4bae-cb02-319a3dc647d4"
      },
      "execution_count": null,
      "outputs": [
        {
          "output_type": "display_data",
          "data": {
            "text/plain": [
              "<Figure size 600x400 with 1 Axes>"
            ],
            "image/png": "[encoded data removed]"
          },
          "metadata": {}
        }
      ]
    },
    {
      "cell_type": "markdown",
      "source": [
        "Para la review 0 (positiva):\n",
        "\n",
        "WordCloud con palabras como emocionante, actuación.\n",
        "\n",
        "Para la review 4 (documental):\n",
        "\n",
        "Palabras como necesario, sensibilidad, profundidad, tema."
      ],
      "metadata": {
        "id": "PZMRoN0Mrx9E"
      }
    },
    {
      "cell_type": "markdown",
      "source": [
        "# 8. Brainstorming\n",
        "\n",
        "Hemos visto BoW y TF-IDF. Son pasos importantes, pero ¿son suficientes?\n",
        "\n",
        "**¿Cómo podemos representar el texto de manera que se preserve la información relevante y se minimice el ruido?**\n",
        "\n",
        "*   ¿Qué información crucial **pierden** BoW y TF-IDF? (¡El orden de las palabras! La semántica, la relación entre palabras).\n",
        "*   \"El rey mató a la reina\" vs \"La reina mató al rey\". ¿BoW/TF-IDF las distinguirían bien? (No mucho).\n",
        "*   ¿Cómo podríamos capturar que \"coche\" y \"auto\" significan casi lo mismo? (BoW/TF-IDF las tratan como totalmente diferentes).\n",
        "*   ¿Qué pasa con la **dimensionalidad**? Si tenemos 50,000 palabras únicas, ¡nuestros vectores tienen 50,000 dimensiones! ¿Es eficiente?\n",
        "*   ¿Cómo afectan nuestras decisiones de preprocesamiento (stemming vs lematización, quitar o no ciertas palabras) a estas representaciones?\n",
        "\n",
        "**Próximos pasos (anticipo):**\n",
        "*   **Word Embeddings (Word2Vec, GloVe, FastText):** Representar palabras como vectores densos (no dispersos como BoW/TF-IDF) en un espacio donde palabras semánticamente similares estén cerca. ¡Capturan significado!\n",
        "*   **Modelos Secuenciales (RNN, LSTM, GRU):** Redes neuronales diseñadas para procesar secuencias, teniendo en cuenta el orden de las palabras.\n",
        "*   **Transformers (BERT, GPT):** Arquitecturas más modernas que usan mecanismos de \"atención\" para entender el contexto de cada palabra en la oración.\n",
        "\n",
        "**(Discusión en grupo)**"
      ],
      "metadata": {
        "id": "0qQ0l_jfuvw2"
      }
    },
    {
      "cell_type": "code",
      "source": [
        "# ✅ BoW (Bag of Words) y TF-IDF nos ayudan a convertir texto en números.\n",
        "# Pero tienen limitaciones que pueden afectar el análisis.\n",
        "\n",
        "# 🔴 Problemas:\n",
        "# - Pierden el orden de las palabras (no entienden si alguien \"mató\" o \"fue matado\").\n",
        "# - No capturan el significado de las palabras (semántica).\n",
        "# - No detectan que \"coche\" y \"auto\" son sinónimos.\n",
        "# - Cada palabra se trata como independiente, sin contexto.\n",
        "# - Las matrices son muy grandes si hay muchas palabras (alta dimensionalidad).\n",
        "\n",
        "# 📌 Ejemplo clásico:\n",
        "# - \"El rey mató a la reina\" y \"La reina mató al rey\" se ven casi iguales para BoW/TF-IDF.\n",
        "# - Pero su significado es muy distinto.\n",
        "\n",
        "# 🤔 ¿Qué información perdemos?\n",
        "# - Relación entre palabras.\n",
        "# - Contexto.\n",
        "# - Sentido del mensaje completo.\n",
        "# - Variaciones del idioma (jerga, dialectos, lenguaje inclusivo).\n",
        "\n",
        "# ⚠️ Preprocesamiento influye mucho:\n",
        "# - Usar stemming puede eliminar diferencias importantes en palabras.\n",
        "# - Quitar stopwords puede borrar palabras clave en ciertos contextos (como \"ella\", \"nosotros\", etc.).\n",
        "\n",
        "# 🚀 Próximos pasos para mejorar:\n",
        "# - Word Embeddings (Word2Vec, GloVe, FastText): cada palabra es un vector en un espacio donde las que tienen significados parecidos están cerca.\n",
        "# - Modelos secuenciales como RNN, LSTM: capturan el orden y contexto de las palabras.\n",
        "# - Transformers como BERT o GPT: comprenden el contexto completo gracias a la atención.\n",
        "\n",
        "# 🎯 Objetivo:\n",
        "# Representar el texto de manera más inteligente para que los modelos \"entiendan\" lo que se dice, no solo cuántas veces aparece una palabra.\n"
      ],
      "metadata": {
        "id": "59CMpT2CsOt-"
      },
      "execution_count": null,
      "outputs": []
    },
    {
      "cell_type": "markdown",
      "source": [
        "Instalar y cargar spaCy con embeddings"
      ],
      "metadata": {
        "id": "K5TVhlz2s4g8"
      }
    },
    {
      "cell_type": "code",
      "source": [
        "# Instalamos el modelo en español con vectores (esto puede tardar un poco)\n",
        "!python -m spacy download es_core_news_md\n"
      ],
      "metadata": {
        "colab": {
          "base_uri": "https://localhost:8080/"
        },
        "id": "k5bbN4wcsog_",
        "outputId": "ea1eca44-7869-46f7-983f-214547cafc1a"
      },
      "execution_count": 6,
      "outputs": [
        {
          "output_type": "stream",
          "name": "stdout",
          "text": [
            "Collecting es-core-news-md==3.8.0\n",
            "  Downloading https://github.com/explosion/spacy-models/releases/download/es_core_news_md-3.8.0/es_core_news_md-3.8.0-py3-none-any.whl (42.3 MB)\n",
            "\u001b[2K     \u001b[90m━━━━━━━━━━━━━━━━━━━━━━━━━━━━━━━━━━━━━━━━\u001b[0m \u001b[32m42.3/42.3 MB\u001b[0m \u001b[31m16.3 MB/s\u001b[0m eta \u001b[36m0:00:00\u001b[0m\n",
            "\u001b[?25hInstalling collected packages: es-core-news-md\n",
            "Successfully installed es-core-news-md-3.8.0\n",
            "\u001b[38;5;2m✔ Download and installation successful\u001b[0m\n",
            "You can now load the package via spacy.load('es_core_news_md')\n",
            "\u001b[38;5;3m⚠ Restart to reload dependencies\u001b[0m\n",
            "If you are in a Jupyter or Colab notebook, you may need to restart Python in\n",
            "order to load all the package's dependencies. You can do this by selecting the\n",
            "'Restart kernel' or 'Restart runtime' option.\n"
          ]
        }
      ]
    },
    {
      "cell_type": "code",
      "source": [
        "# Importamos spaCy y cargamos el modelo\n",
        "import spacy\n",
        "nlp = spacy.load(\"es_core_news_md\")  # Modelo mediano con vectores semánticos\n"
      ],
      "metadata": {
        "id": "HdHJhV9rsqpv"
      },
      "execution_count": 7,
      "outputs": []
    },
    {
      "cell_type": "markdown",
      "source": [
        "Comparar palabras similares"
      ],
      "metadata": {
        "id": "iZUSDCKes8Dw"
      }
    },
    {
      "cell_type": "code",
      "source": [
        "# Obtenemos los vectores de palabras\n",
        "coche = nlp(\"coche\")[0]\n",
        "auto = nlp(\"auto\")[0]\n",
        "película = nlp(\"película\")[0]\n",
        "\n",
        "# Similitud entre palabras\n",
        "print(\"Similitud coche-auto:\", coche.similarity(auto))  # Cercano a 1 = muy similares\n",
        "print(\"Similitud coche-película:\", coche.similarity(película))  # Más bajo = no tan similares\n"
      ],
      "metadata": {
        "colab": {
          "base_uri": "https://localhost:8080/"
        },
        "id": "BlLYD8TystYV",
        "outputId": "c7941439-043a-4fd8-c7d3-d71e977ecbeb"
      },
      "execution_count": 8,
      "outputs": [
        {
          "output_type": "stream",
          "name": "stdout",
          "text": [
            "Similitud coche-auto: 0.6847264170646667\n",
            "Similitud coche-película: 0.08302406221628189\n"
          ]
        }
      ]
    },
    {
      "cell_type": "markdown",
      "source": [
        "Vector de una oración y comparación"
      ],
      "metadata": {
        "id": "2DHGyk4_s-zq"
      }
    },
    {
      "cell_type": "code",
      "source": [
        "# Dos frases parecidas pero con diferente orden\n",
        "doc1 = nlp(\"El rey mató a la reina\")\n",
        "doc2 = nlp(\"La reina mató al rey\")\n",
        "\n",
        "# Similaridad entre oraciones (captura algo de contexto)\n",
        "print(\"Similitud entre frases:\", doc1.similarity(doc2))\n"
      ],
      "metadata": {
        "colab": {
          "base_uri": "https://localhost:8080/"
        },
        "id": "9MaQF0CgsxaM",
        "outputId": "0f804b77-7b4a-4462-8117-cbcfcdbecbf6"
      },
      "execution_count": 9,
      "outputs": [
        {
          "output_type": "stream",
          "name": "stdout",
          "text": [
            "Similitud entre frases: 0.9099435210227966\n"
          ]
        }
      ]
    },
    {
      "cell_type": "markdown",
      "source": [
        "Vector promedio de las reviews"
      ],
      "metadata": {
        "id": "x80XiYnstBOu"
      }
    },
    {
      "cell_type": "code",
      "source": [
        "# Reviews originales\n",
        "reviews = [\n",
        "    \"Una película emocionante con actuaciones brillantes. ¡Me encantó!\",\n",
        "    \"Muy aburrida y lenta. El guión era predecible y los actores no convencían.\",\n",
        "    \"Los efectos especiales fueron impresionantes, pero la historia dejaba mucho que desear.\",\n",
        "    \"¡Qué gran comedia! Me reí sin parar durante toda la película.\",\n",
        "    \"Un documental necesario que aborda temas importantes con profundidad y sensibilidad.\"\n",
        "]\n",
        "\n",
        "# Procesamos con spaCy\n",
        "docs = list(nlp.pipe(reviews))\n",
        "\n",
        "# Mostramos el vector promedio de cada review (vector denso)\n",
        "for i, doc in enumerate(docs):\n",
        "    print(f\"Vector de review {i+1} (primeros 5 valores): {doc.vector[:5]}\")\n"
      ],
      "metadata": {
        "colab": {
          "base_uri": "https://localhost:8080/"
        },
        "id": "RBcBvaMOs0B7",
        "outputId": "389e861f-acd3-4bb4-8f2d-83793b6143b2"
      },
      "execution_count": 10,
      "outputs": [
        {
          "output_type": "stream",
          "name": "stdout",
          "text": [
            "Vector de review 1 (primeros 5 valores): [ 0.01422908 -1.2421327   0.42049226  1.6378264  -2.4651606 ]\n",
            "Vector de review 2 (primeros 5 valores): [ 1.2137749   1.4092737  -0.69858336 -0.6962506  -1.1362714 ]\n",
            "Vector de review 3 (primeros 5 valores): [ 1.48806     1.0643457  -0.05676565 -1.2164907   0.9206864 ]\n",
            "Vector de review 4 (primeros 5 valores): [ 0.19361147 -0.26253143  0.09899179  0.26913413 -1.0728858 ]\n",
            "Vector de review 5 (primeros 5 valores): [ 1.1327076  -0.13129333 -1.5542892  -0.35944164  0.503674  ]\n"
          ]
        }
      ]
    },
    {
      "cell_type": "markdown",
      "source": [
        "Estas representaciones sí capturan similitudes semánticas, como que coche y auto son parecidos.\n",
        "\n",
        "También capturan algo del contexto, aunque modelos más potentes como BERT o GPT lo hacen mucho mejor.\n",
        "\n",
        "Los vectores no son dispersos como en BoW/TF-IDF. Son densos y eficientes."
      ],
      "metadata": {
        "id": "iJYlIJ_9tGle"
      }
    }
  ]
}