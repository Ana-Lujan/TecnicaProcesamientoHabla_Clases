{
  "nbformat": 4,
  "nbformat_minor": 0,
  "metadata": {
    "colab": {
      "provenance": []
    },
    "kernelspec": {
      "name": "python3",
      "display_name": "Python 3"
    },
    "language_info": {
      "name": "python"
    }
  },
  "cells": [
    {
      "cell_type": "code",
      "source": [
        "# Para manipulación de datos y operaciones numéricas\n",
        "import numpy as np\n",
        "# Para vectorización y modelos de Machine Learning\n",
        "from sklearn.feature_extraction.text import CountVectorizer, TfidfVectorizer\n",
        "from sklearn.model_selection import train_test_split\n",
        "from sklearn.pipeline import Pipeline\n",
        "from sklearn.naive_bayes import MultinomialNB\n",
        "from sklearn.linear_model import LogisticRegression\n",
        "# Para evaluación\n",
        "from sklearn.metrics import classification_report, confusion_matrix, ConfusionMatrixDisplay\n",
        "# Para visualización (opcional, para la matriz de confusión)\n",
        "import matplotlib.pyplot as plt\n",
        "\n",
        "print(\"Librerías principales importadas.\")"
      ],
      "metadata": {
        "colab": {
          "base_uri": "https://localhost:8080/"
        },
        "id": "IkkC9TI0w57v",
        "outputId": "9425e22e-b642-4ce9-d5dd-8c01adfe7747"
      },
      "execution_count": 1,
      "outputs": [
        {
          "output_type": "stream",
          "name": "stdout",
          "text": [
            "Librerías principales importadas.\n"
          ]
        }
      ]
    },
    {
      "cell_type": "code",
      "execution_count": 6,
      "metadata": {
        "colab": {
          "base_uri": "https://localhost:8080/"
        },
        "id": "-2m-QM-ewNNP",
        "outputId": "06ad750e-ee7c-4f55-e57d-d38afe319eed"
      },
      "outputs": [
        {
          "output_type": "stream",
          "name": "stdout",
          "text": [
            "Textos de entrenamiento (Deporte): 3\n",
            "Textos de prueba (Deporte): 3\n",
            "------------------------------\n"
          ]
        }
      ],
      "source": [
        "# 1. Datos de Ejemplo (Simples, para clasificación binaria: Positivo/Negativo)\n",
        "textos_deporte = [\n",
        "    \"El partido de fútbol fue espectacular, ¡qué golazo!\",  # Positivo\n",
        "    \"No me gustó nada el entrenamiento de hoy, muy aburrido.\", # Negativo\n",
        "    \"La victoria del equipo de baloncesto fue emocionante.\", # Positivo\n",
        "    \"Perdimos el partido de tenis, fue muy decepcionante.\", # Negativo\n",
        "    \"Disfruté mucho la clase de natación, me relajó.\",    # Positivo\n",
        "    \"El resultado del rugby fue terrible, jugaron muy mal.\" # Negativo\n",
        "]\n",
        "# Etiquetas: 1 para Positivo, 0 para Negativo\n",
        "labels_deporte = np.array([1, 0, 1, 0, 1, 0])\n",
        "\n",
        "# 2. Dividir datos en Entrenamiento y Prueba\n",
        "X_train_deporte, X_test_deporte, y_train_deporte, y_test_deporte = train_test_split(\n",
        "    textos_deporte, labels_deporte, test_size=0.5, random_state=42\n",
        ") # Ajustamos test_size por el corpus pequeño\n",
        "\n",
        "print(f\"Textos de entrenamiento (Deporte): {len(X_train_deporte)}\")\n",
        "print(f\"Textos de prueba (Deporte): {len(X_test_deporte)}\")\n",
        "print(\"-\" * 30)\n"
      ]
    },
    {
      "cell_type": "code",
      "source": [
        "# 3. Crear y Entrenar un Pipeline (TF-IDF + Regresión Logística)\n",
        "# Esta vez usaremos Regresión Logística como clasificador para variar\n",
        "pipeline_lr_deporte = Pipeline([\n",
        "    ('tfidf', TfidfVectorizer(ngram_range=(1, 2))), # Usamos unigramas y bigramas\n",
        "    ('clf', LogisticRegression()) # Clasificador de Regresión Logística\n",
        "])\n",
        "\n",
        "print(\"\\nEntrenando el Pipeline (TF-IDF + Regresión Logística)...\")\n",
        "# Entrenamos el pipeline COMPLETO con los datos de texto CRUDOS de entrenamiento\n",
        "pipeline_lr_deporte.fit(X_train_deporte, y_train_deporte)\n",
        "print(\"Entrenamiento completado.\")\n",
        "print(\"-\" * 30)\n"
      ],
      "metadata": {
        "colab": {
          "base_uri": "https://localhost:8080/"
        },
        "id": "ww_6l0U_xPUL",
        "outputId": "e3ed2e13-5d82-457a-df41-6330e53160bf"
      },
      "execution_count": 3,
      "outputs": [
        {
          "output_type": "stream",
          "name": "stdout",
          "text": [
            "\n",
            "Entrenando el Pipeline (TF-IDF + Regresión Logística)...\n",
            "Entrenamiento completado.\n",
            "------------------------------\n"
          ]
        }
      ]
    },
    {
      "cell_type": "code",
      "source": [
        "# 4. Realizar Predicciones sobre los datos de Prueba\n",
        "print(\"\\nRealizando predicciones sobre el conjunto de prueba (Deporte)...\")\n",
        "y_pred_lr_deporte = pipeline_lr_deporte.predict(X_test_deporte)\n",
        "\n",
        "print(f\"Predicciones: {y_pred_lr_deporte}\")\n",
        "print(f\"Etiquetas Reales: {y_test_deporte}\")\n",
        "print(\"-\" * 30)\n"
      ],
      "metadata": {
        "colab": {
          "base_uri": "https://localhost:8080/"
        },
        "id": "W--wUjiexSCn",
        "outputId": "d17d0a0d-33b7-42d7-d471-8c83de1c7507"
      },
      "execution_count": 4,
      "outputs": [
        {
          "output_type": "stream",
          "name": "stdout",
          "text": [
            "\n",
            "Realizando predicciones sobre el conjunto de prueba (Deporte)...\n",
            "Predicciones: [1 1 1]\n",
            "Etiquetas Reales: [1 0 0]\n",
            "------------------------------\n"
          ]
        }
      ]
    },
    {
      "cell_type": "code",
      "source": [
        "# 5. Evaluar el Modelo\n",
        "print(\"\\n--- Evaluación del Modelo (Regresión Logística - Deporte) ---\")\n",
        "print(classification_report(y_test_deporte, y_pred_lr_deporte, target_names=['Negativo (0)', 'Positivo (1)']))\n",
        "\n",
        "# Matriz de Confusión\n",
        "print(\"\\nMatriz de Confusión (Deporte):\")\n",
        "cm_lr_deporte = confusion_matrix(y_test_deporte, y_pred_lr_deporte)\n",
        "disp_lr_deporte = ConfusionMatrixDisplay(confusion_matrix=cm_lr_deporte, display_labels=['Negativo (0)', 'Positivo (1)'])\n",
        "disp_lr_deporte.plot(cmap=plt.cm.Greens) # Cambiamos el color del mapa\n",
        "plt.show() # Muestra el gráfico"
      ],
      "metadata": {
        "colab": {
          "base_uri": "https://localhost:8080/",
          "height": 814
        },
        "id": "XiuiOU5gxUBK",
        "outputId": "7b5acd10-440b-4525-f155-c7484d0c816b"
      },
      "execution_count": 5,
      "outputs": [
        {
          "output_type": "stream",
          "name": "stdout",
          "text": [
            "\n",
            "--- Evaluación del Modelo (Regresión Logística - Deporte) ---\n",
            "              precision    recall  f1-score   support\n",
            "\n",
            "Negativo (0)       0.00      0.00      0.00         2\n",
            "Positivo (1)       0.33      1.00      0.50         1\n",
            "\n",
            "    accuracy                           0.33         3\n",
            "   macro avg       0.17      0.50      0.25         3\n",
            "weighted avg       0.11      0.33      0.17         3\n",
            "\n",
            "\n",
            "Matriz de Confusión (Deporte):\n"
          ]
        },
        {
          "output_type": "stream",
          "name": "stderr",
          "text": [
            "/usr/local/lib/python3.11/dist-packages/sklearn/metrics/_classification.py:1565: UndefinedMetricWarning: Precision is ill-defined and being set to 0.0 in labels with no predicted samples. Use `zero_division` parameter to control this behavior.\n",
            "  _warn_prf(average, modifier, f\"{metric.capitalize()} is\", len(result))\n",
            "/usr/local/lib/python3.11/dist-packages/sklearn/metrics/_classification.py:1565: UndefinedMetricWarning: Precision is ill-defined and being set to 0.0 in labels with no predicted samples. Use `zero_division` parameter to control this behavior.\n",
            "  _warn_prf(average, modifier, f\"{metric.capitalize()} is\", len(result))\n",
            "/usr/local/lib/python3.11/dist-packages/sklearn/metrics/_classification.py:1565: UndefinedMetricWarning: Precision is ill-defined and being set to 0.0 in labels with no predicted samples. Use `zero_division` parameter to control this behavior.\n",
            "  _warn_prf(average, modifier, f\"{metric.capitalize()} is\", len(result))\n"
          ]
        },
        {
          "output_type": "display_data",
          "data": {
            "text/plain": [
              "<Figure size 640x480 with 2 Axes>"
            ],
            "image/png": "[encoded data removed]"
          },
          "metadata": {}
        }
      ]
    },
    {
      "cell_type": "markdown",
      "source": [
        "1- Importando herramientas: Al principio, importa varias librerías de Python (numpy, sklearn, matplotlib). Estas son herramientas ayudan a manejar datos, construir modelos de Machine Learning y mostrar resultados.\n",
        "\n",
        "2- Preparando datos: Crea una pequeña lista de frases sobre deportes (textos_deporte) y una lista de etiquetas (labels_deporte) que indican si cada frase es \"Positiva\" (1) o \"Negativa\" (0). Estos son los datos que usará para entrenar y probar el modelo.\n",
        "\n",
        "3- Dividiendo datos: Divide estas frases y etiquetas en dos grupos: uno para \"entrenamiento\" (para que el modelo aprenda) y otro para \"prueba\" (para ver qué tan bien aprendió).\n",
        "\n",
        "4- Creando un \"Pipeline\": Creamos un Pipeline. Pipeline es \"una cadena de pasos\". En este caso, la cadena tiene dos pasos:\n",
        "\n",
        "**TfidfVectorizer**: Este paso convierte las palabras de las frases en números que el modelo pueda entender. También le dice al modelo qué tan importantes son ciertas palabras.\n",
        "**LogisticRegression**: Este es el modelo de Machine Learning que aprende a clasificar las frases como positivas o negativas basándose en los números que le da el paso anterior.\n",
        "\n",
        "5- Entrenando el modelo: Utiliza los datos de \"entrenamiento\" para que el Pipeline (ambos pasos juntos) aprenda a identificar patrones en las frases que corresponden a ser positivas o negativas.\n",
        "\n",
        "6- Haciendo predicciones: Una vez entrenado, usa el Pipeline para hacer predicciones sobre las frases en el grupo de \"prueba\". Es decir, el modelo intenta adivinar si cada frase de prueba es positiva o negativa.\n",
        "\n",
        "7- Evaluando el resultado: Finalmente, compara las predicciones del modelo con las etiquetas reales de las frases de prueba para ver qué tan preciso fue. Muestra un \"reporte de clasificación\" y una \"matriz de confusión\" que te dan detalles sobre el rendimiento del modelo."
      ],
      "metadata": {
        "id": "JHLVC7ZjbA1w"
      }
    },
    {
      "cell_type": "markdown",
      "source": [],
      "metadata": {
        "id": "YuE9zZAicRUF"
      }
    }
  ]
}