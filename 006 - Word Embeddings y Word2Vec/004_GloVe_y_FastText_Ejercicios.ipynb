{
  "nbformat": 4,
  "nbformat_minor": 0,
  "metadata": {
    "colab": {
      "provenance": []
    },
    "kernelspec": {
      "name": "python3",
      "display_name": "Python 3"
    },
    "language_info": {
      "name": "python"
    }
  },
  "cells": [
    {
      "cell_type": "markdown",
      "source": [
        "# 8. Micro-Laboratorio (Ejercicio Práctico)\n",
        "\n",
        "**Consigna:** (Asumiendo que `fasttext_vectors` y `word2vec_vectors` están cargados)\n",
        "\n",
        "1.  **Comparación de Resultados:**\n",
        "    *   Elegir 3 palabras que **sí** estén en ambos vocabularios (ej: 'gato', 'correr', 'inteligencia').\n",
        "    *   Para cada palabra, obtener las 5 más similares usando `word2vec_vectors.most_similar()` y `fasttext_vectors.most_similar()`.\n",
        "    *   Comparar las listas de similares. ¿Son idénticas? ¿Muy parecidas? ¿Diferentes? ¿Cuál les parece \"mejor\" o más coherente? Anotar observaciones.\n",
        "\n",
        "2.  **Test OOV Exhaustivo:**\n",
        "    *   Crear una lista propia de 10 palabras OOV. Incluyan:\n",
        "        *   Errores tipográficos comunes (ej: \"hobmre\", \"qeu\", \"dicimbre\").\n",
        "        *   Diminutivos/Aumentativos (ej: \"perrito\", \"casita\", \"libraco\").\n",
        "        *   Formas verbales conjugadas (ej: \"habíamos comido\", \"cantasteis\").\n",
        "        *   Palabras inventadas pero plausibles (ej: \"tecnoestrés\", \"computofilia\").\n",
        "    *   Para **cada** palabra OOV de su lista:\n",
        "        *   Verificar si da `KeyError` en `word2vec_vectors`.\n",
        "        *   Obtener las 3 palabras más similares usando `fasttext_vectors`. Anotar los resultados. ¿Los similares que da FastText tienen algún sentido basado en las partes de la palabra OOV?\n",
        "\n",
        "3.  **Discusión:**\n",
        "    *   ¿En qué tipo de aplicación real (ej: un chatbot de atención al cliente, un sistema de recomendación de noticias, un corrector ortográfico) creen que la capacidad OOV de FastText marcaría una diferencia significativa respecto a usar Word2Vec? ¿Por qué?"
      ],
      "metadata": {
        "id": "6bPYX6xPmdU0"
      }
    },
    {
      "cell_type": "markdown",
      "source": [
        "# En INGLES"
      ],
      "metadata": {
        "id": "zl0VPZhkkFP1"
      }
    },
    {
      "cell_type": "markdown",
      "source": [
        "## Instalar gensim y descargar modelos"
      ],
      "metadata": {
        "id": "GNm3q-H9kCYA"
      }
    },
    {
      "cell_type": "code",
      "source": [
        "# Instalamos gensim, una biblioteca para trabajar con Word2Vec y FastText\n",
        "!pip install gensim\n"
      ],
      "metadata": {
        "id": "26vXMK1amgTI",
        "colab": {
          "base_uri": "https://localhost:8080/",
          "height": 653
        },
        "outputId": "afded8a7-3f3a-4e6a-d2d6-32a708e6883c"
      },
      "execution_count": 1,
      "outputs": [
        {
          "output_type": "stream",
          "name": "stdout",
          "text": [
            "Collecting gensim\n",
            "  Downloading gensim-4.3.3-cp311-cp311-manylinux_2_17_x86_64.manylinux2014_x86_64.whl.metadata (8.1 kB)\n",
            "Collecting numpy<2.0,>=1.18.5 (from gensim)\n",
            "  Downloading numpy-1.26.4-cp311-cp311-manylinux_2_17_x86_64.manylinux2014_x86_64.whl.metadata (61 kB)\n",
            "\u001b[2K     \u001b[90m━━━━━━━━━━━━━━━━━━━━━━━━━━━━━━━━━━━━━━━━\u001b[0m \u001b[32m61.0/61.0 kB\u001b[0m \u001b[31m2.2 MB/s\u001b[0m eta \u001b[36m0:00:00\u001b[0m\n",
            "\u001b[?25hCollecting scipy<1.14.0,>=1.7.0 (from gensim)\n",
            "  Downloading scipy-1.13.1-cp311-cp311-manylinux_2_17_x86_64.manylinux2014_x86_64.whl.metadata (60 kB)\n",
            "\u001b[2K     \u001b[90m━━━━━━━━━━━━━━━━━━━━━━━━━━━━━━━━━━━━━━━━\u001b[0m \u001b[32m60.6/60.6 kB\u001b[0m \u001b[31m2.1 MB/s\u001b[0m eta \u001b[36m0:00:00\u001b[0m\n",
            "\u001b[?25hRequirement already satisfied: smart-open>=1.8.1 in /usr/local/lib/python3.11/dist-packages (from gensim) (7.1.0)\n",
            "Requirement already satisfied: wrapt in /usr/local/lib/python3.11/dist-packages (from smart-open>=1.8.1->gensim) (1.17.2)\n",
            "Downloading gensim-4.3.3-cp311-cp311-manylinux_2_17_x86_64.manylinux2014_x86_64.whl (26.7 MB)\n",
            "\u001b[2K   \u001b[90m━━━━━━━━━━━━━━━━━━━━━━━━━━━━━━━━━━━━━━━━\u001b[0m \u001b[32m26.7/26.7 MB\u001b[0m \u001b[31m38.3 MB/s\u001b[0m eta \u001b[36m0:00:00\u001b[0m\n",
            "\u001b[?25hDownloading numpy-1.26.4-cp311-cp311-manylinux_2_17_x86_64.manylinux2014_x86_64.whl (18.3 MB)\n",
            "\u001b[2K   \u001b[90m━━━━━━━━━━━━━━━━━━━━━━━━━━━━━━━━━━━━━━━━\u001b[0m \u001b[32m18.3/18.3 MB\u001b[0m \u001b[31m54.5 MB/s\u001b[0m eta \u001b[36m0:00:00\u001b[0m\n",
            "\u001b[?25hDownloading scipy-1.13.1-cp311-cp311-manylinux_2_17_x86_64.manylinux2014_x86_64.whl (38.6 MB)\n",
            "\u001b[2K   \u001b[90m━━━━━━━━━━━━━━━━━━━━━━━━━━━━━━━━━━━━━━━━\u001b[0m \u001b[32m38.6/38.6 MB\u001b[0m \u001b[31m12.3 MB/s\u001b[0m eta \u001b[36m0:00:00\u001b[0m\n",
            "\u001b[?25hInstalling collected packages: numpy, scipy, gensim\n",
            "  Attempting uninstall: numpy\n",
            "    Found existing installation: numpy 2.0.2\n",
            "    Uninstalling numpy-2.0.2:\n",
            "      Successfully uninstalled numpy-2.0.2\n",
            "  Attempting uninstall: scipy\n",
            "    Found existing installation: scipy 1.15.3\n",
            "    Uninstalling scipy-1.15.3:\n",
            "      Successfully uninstalled scipy-1.15.3\n",
            "\u001b[31mERROR: pip's dependency resolver does not currently take into account all the packages that are installed. This behaviour is the source of the following dependency conflicts.\n",
            "tsfresh 0.21.0 requires scipy>=1.14.0; python_version >= \"3.10\", but you have scipy 1.13.1 which is incompatible.\n",
            "thinc 8.3.6 requires numpy<3.0.0,>=2.0.0, but you have numpy 1.26.4 which is incompatible.\u001b[0m\u001b[31m\n",
            "\u001b[0mSuccessfully installed gensim-4.3.3 numpy-1.26.4 scipy-1.13.1\n"
          ]
        },
        {
          "output_type": "display_data",
          "data": {
            "application/vnd.colab-display-data+json": {
              "pip_warning": {
                "packages": [
                  "numpy"
                ]
              },
              "id": "d561d8a254ba421b888637165dfaf20e"
            }
          },
          "metadata": {}
        }
      ]
    },
    {
      "cell_type": "code",
      "source": [
        "# Importamos lo necesario\n",
        "import gensim.downloader as api\n",
        "from gensim.models import KeyedVectors\n"
      ],
      "metadata": {
        "id": "BeLRG_5PfKjc"
      },
      "execution_count": 1,
      "outputs": []
    },
    {
      "cell_type": "markdown",
      "source": [
        "## Cargar modelos preentrenados"
      ],
      "metadata": {
        "id": "xdnMjjsIkW8k"
      }
    },
    {
      "cell_type": "markdown",
      "source": [
        "Usaremos dos modelos disponibles desde **gensim**:\n",
        "\n",
        "**Word2Vec**: entrenado en Google News.\n",
        "\n",
        "**FastText**: entrenado en Wikipedia."
      ],
      "metadata": {
        "id": "uc6AYBEtkcTY"
      }
    },
    {
      "cell_type": "code",
      "source": [
        "# Cargar modelo Word2Vec preentrenado (tarda unos minutos)\n",
        "word2vec_vectors = api.load(\"word2vec-google-news-300\")  # Inglés\n",
        "\n",
        "# Cargar modelo FastText preentrenado\n",
        "fasttext_vectors = api.load(\"fasttext-wiki-news-subwords-300\")  # Inglés\n"
      ],
      "metadata": {
        "colab": {
          "base_uri": "https://localhost:8080/"
        },
        "id": "uLbLeC81fM-z",
        "outputId": "21c93c57-a02c-4a1f-db8c-05d06fe0694b"
      },
      "execution_count": 2,
      "outputs": [
        {
          "output_type": "stream",
          "name": "stdout",
          "text": [
            "[==================================================] 100.0% 1662.8/1662.8MB downloaded\n",
            "[==================================================] 100.0% 958.5/958.4MB downloaded\n"
          ]
        }
      ]
    },
    {
      "cell_type": "markdown",
      "source": [
        "## Comparamos de palabras comunes"
      ],
      "metadata": {
        "id": "7lR3q_USkjj7"
      }
    },
    {
      "cell_type": "code",
      "source": [
        "# Palabras comunes en ambos modelos (en inglés)\n",
        "palabras = [\"cat\", \"run\", \"intelligence\"]\n",
        "\n",
        "# Para cada palabra, mostramos las 5 más similares en cada modelo\n",
        "for palabra in palabras:\n",
        "    print(f\"\\nPalabra: {palabra}\")\n",
        "\n",
        "    # Word2Vec\n",
        "    similares_w2v = word2vec_vectors.most_similar(palabra, topn=5)\n",
        "    print(\"Word2Vec similares:\")\n",
        "    for sim in similares_w2v:\n",
        "        print(f\"  {sim[0]} ({sim[1]:.2f})\")\n",
        "\n",
        "    # FastText\n",
        "    similares_ft = fasttext_vectors.most_similar(palabra, topn=5)\n",
        "    print(\"FastText similares:\")\n",
        "    for sim in similares_ft:\n",
        "        print(f\"  {sim[0]} ({sim[1]:.2f})\")\n"
      ],
      "metadata": {
        "colab": {
          "base_uri": "https://localhost:8080/"
        },
        "id": "hISeiLSPfY-y",
        "outputId": "e9da1c7a-ff4c-454a-ced3-e34d5df8169f"
      },
      "execution_count": 3,
      "outputs": [
        {
          "output_type": "stream",
          "name": "stdout",
          "text": [
            "\n",
            "Palabra: cat\n",
            "Word2Vec similares:\n",
            "  cats (0.81)\n",
            "  dog (0.76)\n",
            "  kitten (0.75)\n",
            "  feline (0.73)\n",
            "  beagle (0.72)\n",
            "FastText similares:\n",
            "  cats (0.84)\n",
            "  housecat (0.77)\n",
            "  -cat (0.76)\n",
            "  dog (0.75)\n",
            "  kitten (0.75)\n",
            "\n",
            "Palabra: run\n",
            "Word2Vec similares:\n",
            "  runs (0.66)\n",
            "  running (0.61)\n",
            "  drive (0.48)\n",
            "  ran (0.48)\n",
            "  scamper (0.47)\n",
            "FastText similares:\n",
            "  running (0.82)\n",
            "  ran (0.77)\n",
            "  runnning (0.76)\n",
            "  runs (0.75)\n",
            "  trun (0.71)\n",
            "\n",
            "Palabra: intelligence\n",
            "Word2Vec similares:\n",
            "  Intelligence (0.72)\n",
            "  intel (0.64)\n",
            "  CIA (0.61)\n",
            "  counterintelligence (0.60)\n",
            "  Alain_Chouet (0.59)\n",
            "FastText similares:\n",
            "  intelligence- (0.80)\n",
            "  inteligence (0.79)\n",
            "  counter-intelligence (0.75)\n",
            "  non-intelligence (0.75)\n",
            "  intelligence-related (0.74)\n"
          ]
        }
      ]
    },
    {
      "cell_type": "markdown",
      "source": [
        "## Test OOV (Out Of Vocabulary)"
      ],
      "metadata": {
        "id": "9kRQRC04ko-u"
      }
    },
    {
      "cell_type": "code",
      "source": [
        "# Lista de palabras que probablemente NO están en el vocabulario de Word2Vec (inglés)\n",
        "# y son las que queremos probar con la capacidad OOV de FastText en español.\n",
        "palabras_oov = [\n",
        "    \"hobmre\",        # error tipográfico de \"hombre\"\n",
        "    \"qeu\",           # error tipográfico de \"que\"\n",
        "    \"dicimbre\",      # error tipográfico de \"diciembre\"\n",
        "    \"perrito\",       # diminutivo de \"perro\"\n",
        "    \"libraco\",       # aumentativo de \"libro\"\n",
        "    \"casita\",        # diminutivo de \"casa\"\n",
        "    \"habíamos\",      # forma verbal de \"haber\"\n",
        "    \"cantasteis\",    # forma verbal de \"cantar\"\n",
        "    \"tecnoestrés\",   # palabra inventada pero plausible en español\n",
        "    \"computofilia\"   # palabra inventada en español\n",
        "]\n",
        "\n",
        "print(\"\\n--- Test OOV (usando FastText en español) ---\")\n",
        "\n",
        "for palabra in palabras_oov:\n",
        "    print(f\"\\nPalabra OOV: {palabra}\")\n",
        "\n",
        "    # Verificamos si Word2Vec (inglés) da error (que debería para palabras en español/OOV)\n",
        "    try:\n",
        "        word2vec_vectors[palabra]\n",
        "        print(\"✅ Word2Vec (inglés) la tiene (¡muy inesperado!).\")\n",
        "    except KeyError:\n",
        "        print(\"❌ Word2Vec (inglés) da KeyError (no reconoce la palabra, como se espera para palabras en español/OOV).\")\n",
        "\n",
        "    # FastText en español debería poder manejar estas palabras OOV (o sus subpalabras)\n",
        "    # Si la palabra o sus subpalabras principales existen en el corpus español, debería dar resultados.\n",
        "    try:\n",
        "        similares_ft = fasttext_vectors.most_similar(palabra, topn=3)\n",
        "        print(\"FastText (español) similares:\")\n",
        "        for sim in similares_ft:\n",
        "            print(f\"  {sim[0]} ({sim[1]:.2f})\")\n",
        "    except KeyError:\n",
        "        # Si aún da KeyError, significa que incluso para FastText español, la palabra o sus subpalabras\n",
        "        # más importantes no están en su vocabulario. Esto es menos probable pero posible para palabras muy raras o inventadas.\n",
        "        print(f\"❌ FastText (español) también dio KeyError para '{palabra}'. La palabra o sus subpalabras clave no están en el vocabulario del modelo.\")"
      ],
      "metadata": {
        "id": "1WpIu8_BinV5",
        "outputId": "cc3fa3a9-ac5d-4143-9b03-36e3c3ded30d",
        "colab": {
          "base_uri": "https://localhost:8080/"
        }
      },
      "execution_count": 6,
      "outputs": [
        {
          "output_type": "stream",
          "name": "stdout",
          "text": [
            "\n",
            "--- Test OOV (usando FastText en español) ---\n",
            "\n",
            "Palabra OOV: hobmre\n",
            "❌ Word2Vec (inglés) da KeyError (no reconoce la palabra, como se espera para palabras en español/OOV).\n",
            "❌ FastText (español) también dio KeyError para 'hobmre'. La palabra o sus subpalabras clave no están en el vocabulario del modelo.\n",
            "\n",
            "Palabra OOV: qeu\n",
            "❌ Word2Vec (inglés) da KeyError (no reconoce la palabra, como se espera para palabras en español/OOV).\n",
            "❌ FastText (español) también dio KeyError para 'qeu'. La palabra o sus subpalabras clave no están en el vocabulario del modelo.\n",
            "\n",
            "Palabra OOV: dicimbre\n",
            "❌ Word2Vec (inglés) da KeyError (no reconoce la palabra, como se espera para palabras en español/OOV).\n",
            "❌ FastText (español) también dio KeyError para 'dicimbre'. La palabra o sus subpalabras clave no están en el vocabulario del modelo.\n",
            "\n",
            "Palabra OOV: perrito\n",
            "❌ Word2Vec (inglés) da KeyError (no reconoce la palabra, como se espera para palabras en español/OOV).\n",
            "❌ FastText (español) también dio KeyError para 'perrito'. La palabra o sus subpalabras clave no están en el vocabulario del modelo.\n",
            "\n",
            "Palabra OOV: libraco\n",
            "❌ Word2Vec (inglés) da KeyError (no reconoce la palabra, como se espera para palabras en español/OOV).\n",
            "❌ FastText (español) también dio KeyError para 'libraco'. La palabra o sus subpalabras clave no están en el vocabulario del modelo.\n",
            "\n",
            "Palabra OOV: casita\n",
            "✅ Word2Vec (inglés) la tiene (¡muy inesperado!).\n",
            "FastText (español) similares:\n",
            "  casitas (0.87)\n",
            "  Casita (0.76)\n",
            "  Casitas (0.68)\n",
            "\n",
            "Palabra OOV: habíamos\n",
            "❌ Word2Vec (inglés) da KeyError (no reconoce la palabra, como se espera para palabras en español/OOV).\n",
            "❌ FastText (español) también dio KeyError para 'habíamos'. La palabra o sus subpalabras clave no están en el vocabulario del modelo.\n",
            "\n",
            "Palabra OOV: cantasteis\n",
            "❌ Word2Vec (inglés) da KeyError (no reconoce la palabra, como se espera para palabras en español/OOV).\n",
            "❌ FastText (español) también dio KeyError para 'cantasteis'. La palabra o sus subpalabras clave no están en el vocabulario del modelo.\n",
            "\n",
            "Palabra OOV: tecnoestrés\n",
            "❌ Word2Vec (inglés) da KeyError (no reconoce la palabra, como se espera para palabras en español/OOV).\n",
            "❌ FastText (español) también dio KeyError para 'tecnoestrés'. La palabra o sus subpalabras clave no están en el vocabulario del modelo.\n",
            "\n",
            "Palabra OOV: computofilia\n",
            "❌ Word2Vec (inglés) da KeyError (no reconoce la palabra, como se espera para palabras en español/OOV).\n",
            "❌ FastText (español) también dio KeyError para 'computofilia'. La palabra o sus subpalabras clave no están en el vocabulario del modelo.\n"
          ]
        }
      ]
    },
    {
      "cell_type": "markdown",
      "source": [
        "**Word2Vec** no reconoce palabras fuera de su vocabulario, lo que es una limitación importante en casos como: errores tipográficos, conjugaciones, diminutivos.\n",
        "\n",
        "**FastText** sí puede generalizar gracias a que aprende representaciones de subpalabras.\n",
        "\n",
        "Aplicaciones donde esto marca una diferencia real:\n",
        "\n",
        "Chatbots o asistentes virtuales: interpretan errores comunes o lenguaje coloquial.\n",
        "\n",
        "Correctores ortográficos: detectan y corrigen palabras fuera del diccionario.\n",
        "\n",
        "Motores de búsqueda o recomendación: tolerancia a errores, sin pérdida de significado.\n",
        "\n",
        "Por eso, **FastText** es ideal cuando trabajamos con texto no curado, informal o lleno de variaciones."
      ],
      "metadata": {
        "id": "KhXreZW0kv_L"
      }
    },
    {
      "cell_type": "markdown",
      "source": [
        "# En ESPAÑOL"
      ],
      "metadata": {
        "id": "4jLVT258lezi"
      }
    },
    {
      "cell_type": "code",
      "source": [
        "# Instalar Gensim para cargar modelos de Word2Vec y FastText\n",
        "!pip install gensim\n"
      ],
      "metadata": {
        "id": "J3kQUqIIllEs",
        "outputId": "28ccb0ae-5668-46e8-bf1b-95d8ef266514",
        "colab": {
          "base_uri": "https://localhost:8080/"
        }
      },
      "execution_count": 7,
      "outputs": [
        {
          "output_type": "stream",
          "name": "stdout",
          "text": [
            "Requirement already satisfied: gensim in /usr/local/lib/python3.11/dist-packages (4.3.3)\n",
            "Requirement already satisfied: numpy<2.0,>=1.18.5 in /usr/local/lib/python3.11/dist-packages (from gensim) (1.26.4)\n",
            "Requirement already satisfied: scipy<1.14.0,>=1.7.0 in /usr/local/lib/python3.11/dist-packages (from gensim) (1.13.1)\n",
            "Requirement already satisfied: smart-open>=1.8.1 in /usr/local/lib/python3.11/dist-packages (from gensim) (7.1.0)\n",
            "Requirement already satisfied: wrapt in /usr/local/lib/python3.11/dist-packages (from smart-open>=1.8.1->gensim) (1.17.2)\n"
          ]
        }
      ]
    },
    {
      "cell_type": "code",
      "source": [
        "# Importamos lo necesario\n",
        "import gensim\n",
        "import gensim.downloader as api\n"
      ],
      "metadata": {
        "id": "PHLRCqGklnQa"
      },
      "execution_count": 8,
      "outputs": []
    },
    {
      "cell_type": "code",
      "source": [
        "# Descargar y cargar FastText preentrenado en español (300 dimensiones)\n",
        "!wget https://dl.fbaipublicfiles.com/fasttext/vectors-crawl/cc.es.300.vec.gz\n"
      ],
      "metadata": {
        "id": "Fhn3UEVVlpAk",
        "outputId": "83d82ccd-b306-40ff-a3ef-3c15b9a8436c",
        "colab": {
          "base_uri": "https://localhost:8080/"
        }
      },
      "execution_count": 9,
      "outputs": [
        {
          "output_type": "stream",
          "name": "stdout",
          "text": [
            "--2025-06-18 15:10:26--  https://dl.fbaipublicfiles.com/fasttext/vectors-crawl/cc.es.300.vec.gz\n",
            "Resolving dl.fbaipublicfiles.com (dl.fbaipublicfiles.com)... 3.163.189.96, 3.163.189.14, 3.163.189.108, ...\n",
            "Connecting to dl.fbaipublicfiles.com (dl.fbaipublicfiles.com)|3.163.189.96|:443... connected.\n",
            "HTTP request sent, awaiting response... 200 OK\n",
            "Length: 1285580896 (1.2G) [binary/octet-stream]\n",
            "Saving to: ‘cc.es.300.vec.gz’\n",
            "\n",
            "cc.es.300.vec.gz    100%[===================>]   1.20G  40.4MB/s    in 28s     \n",
            "\n",
            "2025-06-18 15:10:54 (43.8 MB/s) - ‘cc.es.300.vec.gz’ saved [1285580896/1285580896]\n",
            "\n"
          ]
        }
      ]
    },
    {
      "cell_type": "code",
      "source": [
        "# Cargar los vectores en español\n",
        "from gensim.models import KeyedVectors\n",
        "\n",
        "# Puede tardar unos minutos\n",
        "fasttext_vectors = KeyedVectors.load_word2vec_format(\"cc.es.300.vec.gz\", binary=False)\n"
      ],
      "metadata": {
        "id": "or8IH2Jwlsu6"
      },
      "execution_count": 10,
      "outputs": []
    },
    {
      "cell_type": "code",
      "source": [
        "# Palabras conocidas que sí están en el modelo (español)\n",
        "palabras = [\"gato\", \"correr\", \"inteligencia\"]\n",
        "\n",
        "for palabra in palabras:\n",
        "    print(f\"\\nPalabra: {palabra}\")\n",
        "\n",
        "    # Similares según FastText\n",
        "    similares = fasttext_vectors.most_similar(palabra, topn=5)\n",
        "    print(\"Similares según FastText:\")\n",
        "    for sim in similares:\n",
        "        print(f\"  {sim[0]} ({sim[1]:.3f})\")\n"
      ],
      "metadata": {
        "id": "VVvKRPYulu8m",
        "outputId": "131024f6-da1e-4b61-a9ea-1d1c9f5ce600",
        "colab": {
          "base_uri": "https://localhost:8080/"
        }
      },
      "execution_count": 11,
      "outputs": [
        {
          "output_type": "stream",
          "name": "stdout",
          "text": [
            "\n",
            "Palabra: gato\n",
            "Similares según FastText:\n",
            "  perro (0.819)\n",
            "  gatito (0.806)\n",
            "  minino (0.710)\n",
            "  Gato (0.707)\n",
            "  gato.El (0.703)\n",
            "\n",
            "Palabra: correr\n",
            "Similares según FastText:\n",
            "  corriendo (0.727)\n",
            "  trotar (0.726)\n",
            "  corrrer (0.704)\n",
            "  correr.Y (0.693)\n",
            "  Correr (0.669)\n",
            "\n",
            "Palabra: inteligencia\n",
            "Similares según FastText:\n",
            "  Inteligencia (0.745)\n",
            "  deinteligencia (0.718)\n",
            "  intelegencia (0.681)\n",
            "  inteligencia.La (0.667)\n",
            "  lainteligencia (0.651)\n"
          ]
        }
      ]
    },
    {
      "cell_type": "code",
      "source": [
        "# Lista de palabras OOV (errores, diminutivos, etc.)\n",
        "palabras_oov = [\n",
        "    \"hobmre\",        # error tipográfico\n",
        "    \"qeu\",           # error tipográfico\n",
        "    \"dicimbre\",      # error tipográfico\n",
        "    \"perrito\",       # diminutivo\n",
        "    \"libraco\",       # aumentativo\n",
        "    \"casita\",        # diminutivo\n",
        "    \"habíamos\",      # forma verbal\n",
        "    \"cantasteis\",    # forma verbal\n",
        "    \"tecnoestrés\",   # inventada\n",
        "    \"computofilia\"   # inventada\n",
        "]\n",
        "\n",
        "for palabra in palabras_oov:\n",
        "    print(f\"\\nPalabra OOV: {palabra}\")\n",
        "\n",
        "    # FastText no lanza error aunque la palabra no esté exacta en el vocabulario\n",
        "    try:\n",
        "        similares = fasttext_vectors.most_similar(palabra, topn=3)\n",
        "        print(\"Similares por FastText:\")\n",
        "        for sim in similares:\n",
        "            print(f\"  {sim[0]} ({sim[1]:.3f})\")\n",
        "    except KeyError:\n",
        "        print(\"No encontrada ni por subpalabras.\")\n"
      ],
      "metadata": {
        "id": "XTasMsB0lzhU",
        "outputId": "a699da63-c5b3-450f-fcc5-74016edb22d4",
        "colab": {
          "base_uri": "https://localhost:8080/"
        }
      },
      "execution_count": 12,
      "outputs": [
        {
          "output_type": "stream",
          "name": "stdout",
          "text": [
            "\n",
            "Palabra OOV: hobmre\n",
            "No encontrada ni por subpalabras.\n",
            "\n",
            "Palabra OOV: qeu\n",
            "Similares por FastText:\n",
            "  uqe (0.878)\n",
            "  qye (0.753)\n",
            "  qque (0.731)\n",
            "\n",
            "Palabra OOV: dicimbre\n",
            "Similares por FastText:\n",
            "  dicienbre (0.647)\n",
            "  novimbre (0.615)\n",
            "  dicimebre (0.612)\n",
            "\n",
            "Palabra OOV: perrito\n",
            "Similares por FastText:\n",
            "  perro (0.806)\n",
            "  gatito (0.791)\n",
            "  cachorrito (0.789)\n",
            "\n",
            "Palabra OOV: libraco\n",
            "Similares por FastText:\n",
            "  libracos (0.719)\n",
            "  librote (0.662)\n",
            "  librito (0.639)\n",
            "\n",
            "Palabra OOV: casita\n",
            "Similares por FastText:\n",
            "  casa (0.730)\n",
            "  cabañita (0.699)\n",
            "  casitas (0.667)\n",
            "\n",
            "Palabra OOV: habíamos\n",
            "Similares por FastText:\n",
            "  habiamos (0.846)\n",
            "  Habíamos (0.844)\n",
            "  hemos (0.842)\n",
            "\n",
            "Palabra OOV: cantasteis\n",
            "No encontrada ni por subpalabras.\n",
            "\n",
            "Palabra OOV: tecnoestrés\n",
            "Similares por FastText:\n",
            "  Tecnoestrés (0.853)\n",
            "  tecnoadicción (0.641)\n",
            "  Nomofobia (0.614)\n",
            "\n",
            "Palabra OOV: computofilia\n",
            "No encontrada ni por subpalabras.\n"
          ]
        }
      ]
    },
    {
      "cell_type": "markdown",
      "source": [
        "- FastText sí puede sugerir similares para palabras nuevas gracias a su uso de sub-palabras.\n",
        "- Palabras como \"perrito\", \"habíamos\" o \"tecnoestrés\" no están en el vocabulario original, pero FastText puede entenderlas.\n",
        "- En un chatbot o corrector ortográfico, esto es crucial. FastText no se rompe con errores y entiende mejor el lenguaje cotidiano."
      ],
      "metadata": {
        "id": "DXGVtwm2pySf"
      }
    },
    {
      "cell_type": "markdown",
      "source": [
        "# 9. Brainstorming: Evaluación y Detección de Sesgos\n",
        "\n",
        "Hemos visto diferentes formas de crear embeddings (Word2Vec, GloVe, FastText) y cómo usarlos. Pero, ¿cómo sabemos si un conjunto de embeddings es \"bueno\"? ¿Y cómo abordamos el problema de los sesgos que mencionamos en clases anteriores?\n",
        "\n",
        "**Pregunta:** **¿Cómo podemos evaluar la calidad de los word embeddings y detectar posibles sesgos?**\n",
        "\n",
        "*   **Evaluación Intrínseca:**\n",
        "    *   Medir qué tan bien funcionan los embeddings en tareas específicas relacionadas con las palabras mismas, **sin** una aplicación final.\n",
        "    *   Ejemplos:\n",
        "        *   **Similitud de Palabras:** Comparar la similitud coseno entre pares de palabras según los embeddings, con juicios de similitud dados por humanos (datasets estándar como WordSim-353, SimLex-999, adaptados o creados para español).\n",
        "        *   **Tareas de Analogía:** Ver qué tan bien resuelven analogías (`rey - hombre + mujer = ?`). Hay datasets estándar de analogías (Google Analogies, BATS).\n",
        "*   **Evaluación Extrínseca:**\n",
        "    *   Usar los embeddings como **características de entrada (features)** para un modelo de PLN más complejo que resuelve una tarea final (downstream task).\n",
        "    *   Ejemplos: Clasificación de sentimientos, reconocimiento de entidades nombradas, clasificación de temas.\n",
        "    *   Medir si usar estos embeddings mejora el rendimiento (precisión, F1-score, etc.) del sistema final comparado con no usarlos o usar otros embeddings. **Esta suele ser la evaluación más relevante en la práctica.**\n",
        "*   **Detección de Sesgos:**\n",
        "    *   **Analogías Específicas:** Crear analogías diseñadas para revelar sesgos sociales (género-profesión, raza-sentimiento, etc.). `programador - hombre + mujer = ?`.\n",
        "    *   **Pruebas de Asociación Implícita (como WEAT - Word Embedding Association Test):** Miden matemáticamente qué tan asociados están ciertos grupos de palabras (ej: nombres masculinos vs femeninos) con ciertos atributos (ej: carreras científicas vs artísticas, adjetivos positivos vs negativos) dentro del espacio de embeddings.\n",
        "    *   **Visualización:** A veces, proyectar grupos específicos (hombres/mujeres, profesiones) a 2D puede revelar agrupaciones o direcciones sesgadas.\n",
        "    *   **Auditoría de Vecinos Cercanos:** Ver los `most_similar` para palabras sensibles.\n",
        "\n",
        "**Una vez detectado el sesgo, ¿qué hacemos?** ¿Existen técnicas para mitigarlo (\"debiasing\")? ¿Es mejor buscar/crear corpus menos sesgados? ¿O simplemente ser transparentes sobre los sesgos del modelo?\n",
        "\n",
        "**(Discusión en grupo)**"
      ],
      "metadata": {
        "id": "x0BNPC_9minX"
      }
    },
    {
      "cell_type": "markdown",
      "source": [
        "## Evaluación Intrínseca: Similitud de Palabras"
      ],
      "metadata": {
        "id": "WFyMfzXp1W2R"
      }
    },
    {
      "cell_type": "code",
      "source": [
        "from scipy.stats import spearmanr\n",
        "\n",
        "# Lista simple de pares en español con una \"similitud humana\" (simulada)\n",
        "pares = [\n",
        "    (\"gato\", \"felino\", 0.95),\n",
        "    (\"rey\", \"reina\", 0.90),\n",
        "    (\"sol\", \"luz\", 0.85),\n",
        "    (\"perro\", \"automóvil\", 0.10),\n",
        "    (\"mesa\", \"silla\", 0.70)\n",
        "]\n",
        "\n",
        "# Evaluamos con FastText cargado\n",
        "embeddings = fasttext_vectors\n",
        "\n",
        "valores_emb = []\n",
        "valores_humanos = []\n",
        "\n",
        "for w1, w2, sim_humana in pares:\n",
        "    try:\n",
        "        sim = embeddings.similarity(w1, w2)\n",
        "        valores_emb.append(sim)\n",
        "        valores_humanos.append(sim_humana)\n",
        "    except KeyError:\n",
        "        print(f\"Palabra no encontrada: {w1} o {w2}\")\n",
        "\n",
        "# Correlación Spearman entre humanos y modelo\n",
        "correlacion, _ = spearmanr(valores_humanos, valores_emb)\n",
        "print(f\"\\nCorrelación Spearman: {correlacion:.3f}\")\n"
      ],
      "metadata": {
        "id": "nGbRdNsh1Rzz",
        "outputId": "4ae2f640-d83c-4082-85ba-ede08fba4be9",
        "colab": {
          "base_uri": "https://localhost:8080/"
        }
      },
      "execution_count": 13,
      "outputs": [
        {
          "output_type": "stream",
          "name": "stdout",
          "text": [
            "\n",
            "Correlación Spearman: 0.900\n"
          ]
        }
      ]
    },
    {
      "cell_type": "markdown",
      "source": [
        "## Evaluación Intrínseca: Analogías"
      ],
      "metadata": {
        "id": "rF3f11-K1aZ5"
      }
    },
    {
      "cell_type": "code",
      "source": [
        "# Prueba de analogías\n",
        "resultado = embeddings.most_similar(positive=[\"reina\", \"hombre\"], negative=[\"mujer\"], topn=1)\n",
        "print(f\"Resultado de la analogía 'reina + hombre - mujer' : {resultado}\")\n"
      ],
      "metadata": {
        "id": "Ckqpysxo1dxo",
        "outputId": "8494432d-fce8-4e76-b941-ee6add1110be",
        "colab": {
          "base_uri": "https://localhost:8080/"
        }
      },
      "execution_count": 14,
      "outputs": [
        {
          "output_type": "stream",
          "name": "stdout",
          "text": [
            "Resultado de la analogía 'reina + hombre - mujer' : [('rey', 0.6823060512542725)]\n"
          ]
        }
      ]
    },
    {
      "cell_type": "markdown",
      "source": [
        "## Evaluación Extrínseca"
      ],
      "metadata": {
        "id": "FkzlcwvF1kMw"
      }
    },
    {
      "cell_type": "markdown",
      "source": [
        "Esta evaluación se hace usando los embeddings como input en modelos reales (clasificación, análisis de sentimiento, etc.). Si lo necesitas, puedo ayudarte a armar un ejemplo completo con un dataset como TASS, MLSentimientos, o uno de noticias."
      ],
      "metadata": {
        "id": "qF_9ocgB1npv"
      }
    },
    {
      "cell_type": "markdown",
      "source": [
        "## Detección de Sesgos"
      ],
      "metadata": {
        "id": "LguPK3mc1r76"
      }
    },
    {
      "cell_type": "markdown",
      "source": [
        "🔍 Analogías diseñadas para revelar sesgos"
      ],
      "metadata": {
        "id": "_uiWL1Ft1zXX"
      }
    },
    {
      "cell_type": "code",
      "source": [
        "# Buscamos si hay sesgo en profesiones por género\n",
        "resultado = embeddings.most_similar(positive=[\"programador\", \"mujer\"], negative=[\"hombre\"], topn=5)\n",
        "print(\"Analogía: programador - hombre + mujer →\", resultado)\n"
      ],
      "metadata": {
        "id": "RQ4Z0O6d1oZW",
        "outputId": "dadcaaee-64d2-4e0a-c6d9-304b90f8453c",
        "colab": {
          "base_uri": "https://localhost:8080/"
        }
      },
      "execution_count": 15,
      "outputs": [
        {
          "output_type": "stream",
          "name": "stdout",
          "text": [
            "Analogía: programador - hombre + mujer → [('programadora', 0.6489662528038025), ('Programadora', 0.5882970094680786), ('programación', 0.5419383645057678), ('programadores', 0.517277181148529), ('tecnóloga', 0.5121967792510986)]\n"
          ]
        }
      ]
    },
    {
      "cell_type": "markdown",
      "source": [
        "🔍 Vecinos cercanos: Auditoría por vecinos sensibles"
      ],
      "metadata": {
        "id": "jdBARBz_11ND"
      }
    },
    {
      "cell_type": "code",
      "source": [
        "# Revisamos los vecinos más cercanos de una palabra sensible\n",
        "vecinos = embeddings.most_similar(\"enfermera\", topn=10)\n",
        "print(\"Vecinos más cercanos a 'enfermera':\")\n",
        "for palabra, sim in vecinos:\n",
        "    print(f\"{palabra}: {sim:.3f}\")\n"
      ],
      "metadata": {
        "id": "-ptFoIe21vMA",
        "outputId": "d1fd4eb2-f6ac-43df-c1db-9073c85eb361",
        "colab": {
          "base_uri": "https://localhost:8080/"
        }
      },
      "execution_count": 16,
      "outputs": [
        {
          "output_type": "stream",
          "name": "stdout",
          "text": [
            "Vecinos más cercanos a 'enfermera':\n",
            "enfermero: 0.764\n",
            "Enfermera: 0.745\n",
            "enfermeras: 0.711\n",
            "enfermería: 0.694\n",
            "anestesióloga: 0.686\n",
            "radióloga: 0.658\n",
            "matrona: 0.649\n",
            "emfermera: 0.636\n",
            "enfermera.: 0.634\n",
            "anestesista: 0.628\n"
          ]
        }
      ]
    },
    {
      "cell_type": "code",
      "source": [],
      "metadata": {
        "id": "F8BpV6oo2C5E"
      },
      "execution_count": null,
      "outputs": []
    },
    {
      "cell_type": "markdown",
      "source": [
        "# 📊 Visualización de sesgos"
      ],
      "metadata": {
        "id": "8jQezO6g1otL"
      }
    },
    {
      "cell_type": "markdown",
      "source": [
        "Usamos TSNE para proyectar en 2D profesiones y géneros."
      ],
      "metadata": {
        "id": "RVSAX1f02BlG"
      }
    },
    {
      "cell_type": "code",
      "source": [
        "from sklearn.manifold import TSNE\n",
        "import matplotlib.pyplot as plt\n",
        "import numpy as np  # Importamos la librería numpy para manejar vectores numéricos\n",
        "\n",
        "# Lista de palabras que queremos analizar por posibles sesgos (por género o profesión)\n",
        "palabras = [\"hombre\", \"mujer\", \"programador\", \"enfermera\", \"científico\", \"maestra\", \"doctor\", \"niñera\"]\n",
        "\n",
        "# Obtenemos el vector de cada palabra del modelo de embeddings (ej. fastText o Word2Vec)\n",
        "vectores = [embeddings[word] for word in palabras]\n",
        "\n",
        "# Convertimos la lista de vectores a una matriz numpy (necesario para TSNE)\n",
        "vectores_np = np.array(vectores)\n",
        "\n",
        "# Creamos un modelo TSNE para reducir de 300 dimensiones a 2D, ideal para visualizar\n",
        "# 'perplexity' debe ser menor que la cantidad de muestras (aquí usamos 5, ya que tenemos 8 palabras)\n",
        "tsne = TSNE(n_components=2, random_state=42, perplexity=5)\n",
        "\n",
        "# Aplicamos la reducción de dimensionalidad\n",
        "vectores_2d = tsne.fit_transform(vectores_np)\n",
        "\n",
        "# Creamos un gráfico de dispersión para visualizar la proyección 2D de las palabras\n",
        "plt.figure(figsize=(8,6))\n",
        "for i, palabra in enumerate(palabras):\n",
        "    x, y = vectores_2d[i]  # Coordenadas en 2D para cada palabra\n",
        "    plt.scatter(x, y)  # Dibujamos el punto\n",
        "    plt.text(x+0.01, y+0.01, palabra, fontsize=12)  # Escribimos la palabra al lado del punto\n",
        "\n",
        "# Título y formato del gráfico\n",
        "plt.title(\"Proyección 2D de palabras sensibles\")\n",
        "plt.grid(True)\n",
        "plt.show()\n"
      ],
      "metadata": {
        "id": "3yGwY4GA2hzz",
        "outputId": "a48ee44c-a758-403b-f52f-c6eafbdab4d7",
        "colab": {
          "base_uri": "https://localhost:8080/",
          "height": 545
        }
      },
      "execution_count": 21,
      "outputs": [
        {
          "output_type": "display_data",
          "data": {
            "text/plain": [
              "<Figure size 800x600 with 1 Axes>"
            ],
            "image/png": "[encoded data removed]"
          },
          "metadata": {}
        }
      ]
    },
    {
      "cell_type": "markdown",
      "source": [
        "- **🧠 Agrupamientos y distancias:**\n",
        "\n",
        "La palabra “hombre” está ubicada lejos de “mujer”, lo que sugiere que en el espacio semántico del modelo, no están tan relacionadas como cabría esperar. Idealmente deberían estar más cerca, ya que son equivalentes de género.\n",
        "\n",
        "“Niñera”, “maestra” y “enfermera” aparecen más cercanas a “mujer”, lo cual puede reflejar un sesgo de género aprendido desde el corpus de entrenamiento: esas profesiones se asocian históricamente con lo femenino.\n",
        "\n",
        "Por otro lado, “programador”, “científico” y “doctor” están más alejados de \"mujer\", y algunos se ubican más cerca de \"hombre\", lo cual también es un indicio de asociación estereotipada con lo masculino.\n",
        "\n",
        "- **Implicancias del sesgo:**\n",
        "\n",
        "Este tipo de agrupamiento puede perpetuar estereotipos si se usan estos embeddings en sistemas de IA, por ejemplo: recomendaciones de empleo, análisis de currículums, sistemas conversacionales, etc.\n",
        "\n",
        "Aunque los embeddings no tienen intención, reproducen los sesgos presentes en el lenguaje del corpus con el que fueron entrenados.\n",
        "\n",
        "- **¿Qué nos dice esto?**\n",
        "\n",
        "Los modelos de lenguaje no son neutros. Reflejan estructuras sociales, históricas y culturales.\n",
        "\n",
        "Antes de usar embeddings en una aplicación sensible (educación, recursos humanos, etc.), es fundamental hacer este tipo de auditorías."
      ],
      "metadata": {
        "id": "dkdiyFuX4Dc-"
      }
    },
    {
      "cell_type": "markdown",
      "source": [
        " Si encontramos sesgos tenemos que:\n",
        "\n",
        "Técnicas para mitigarlos:\n",
        "- Debiasing (Bolukbasi et al.): eliminar direcciones de género en los vectores.\n",
        "\n",
        "- Corpus balanceado: usar textos diversos e inclusivos.\n",
        "\n",
        "- Embeddings neutrales: usar variantes entrenadas con filtros.\n",
        "\n",
        "- Transparencia: documentar los sesgos conocidos (ej: datasheets for datasets)."
      ],
      "metadata": {
        "id": "Zv7dPQdi17Av"
      }
    },
    {
      "cell_type": "markdown",
      "source": [
        "La detección de sesgos en embeddings es clave para construir aplicaciones justas. En sistemas como chatbots, traductores o sistemas de selección de personal, usar embeddings con sesgos puede perpetuar estereotipos de género, raza o profesión. Evaluar, visualizar y mitigar sesgos debe ser parte del pipeline de PLN."
      ],
      "metadata": {
        "id": "KVMusKqJ23rF"
      }
    },
    {
      "cell_type": "code",
      "source": [
        "import numpy as np\n",
        "from sklearn.metrics.pairwise import cosine_similarity\n",
        "\n",
        "# Palabras que representan los géneros\n",
        "grupo_masculino = [\"hombre\"]\n",
        "grupo_femenino = [\"mujer\"]\n",
        "\n",
        "# Profesiones a evaluar\n",
        "profesiones = [\"programador\", \"doctor\", \"científico\", \"enfermera\", \"niñera\", \"maestra\"]\n",
        "\n",
        "# Función para obtener similitud promedio de una palabra con un grupo\n",
        "def similitud_promedio(palabra, grupo):\n",
        "    vec_palabra = embeddings[palabra].reshape(1, -1)  # Vector de la palabra\n",
        "    vec_grupo = np.array([embeddings[g] for g in grupo])  # Vectores del grupo\n",
        "    similitudes = cosine_similarity(vec_palabra, vec_grupo)\n",
        "    return np.mean(similitudes)\n",
        "\n",
        "# Evaluamos cada profesión\n",
        "for profesion in profesiones:\n",
        "    sim_masculino = similitud_promedio(profesion, grupo_masculino)\n",
        "    sim_femenino = similitud_promedio(profesion, grupo_femenino)\n",
        "    diferencia = sim_masculino - sim_femenino\n",
        "    print(f\"{profesion}: más cercano a {'hombre' if diferencia > 0 else 'mujer'} (Δ = {diferencia:.3f})\")\n"
      ],
      "metadata": {
        "id": "eBjWZDVH24OA",
        "outputId": "50ab197f-423c-4143-9d92-3101cc27dc5a",
        "colab": {
          "base_uri": "https://localhost:8080/"
        }
      },
      "execution_count": 22,
      "outputs": [
        {
          "output_type": "stream",
          "name": "stdout",
          "text": [
            "programador: más cercano a hombre (Δ = 0.189)\n",
            "doctor: más cercano a hombre (Δ = 0.101)\n",
            "científico: más cercano a hombre (Δ = 0.199)\n",
            "enfermera: más cercano a mujer (Δ = -0.259)\n",
            "niñera: más cercano a mujer (Δ = -0.225)\n",
            "maestra: más cercano a mujer (Δ = -0.154)\n"
          ]
        }
      ]
    },
    {
      "cell_type": "markdown",
      "source": [
        "🎯 Calculamos la similitud del coseno entre el embedding de cada profesión y los géneros \"hombre\" y \"mujer\".\n",
        "\n",
        "- Si la diferencia (Δ) es positiva, indica mayor asociación con \"hombre\"; si es negativa, con \"mujer\".\n",
        "\n",
        "Esto te permite cuantificar el sesgo de género en las profesiones."
      ],
      "metadata": {
        "id": "wIXWPTYS54ue"
      }
    },
    {
      "cell_type": "markdown",
      "source": [
        "**¿En que nos ayuda?**\n",
        "\n",
        "- Detección objetiva de sesgos: No es suficiente con visualizaciones. Este método asigna un número a cada asociación, lo que permite comparar entre modelos y versiones.\n",
        "\n",
        "- Diseño de sistemas éticos: Si usás embeddings en modelos de recomendación, selección de talento, asistentes virtuales o sistemas educativos, podés perpetuar estereotipos sociales si no detectás estos sesgos.\n",
        "\n",
        "- Base para mitigar: Saber qué palabras están sesgadas es el primer paso para aplicar técnicas de debiasing o corregir el corpus de entrenamiento.\n",
        "\n"
      ],
      "metadata": {
        "id": "XmWpT0bX6Agx"
      }
    },
    {
      "cell_type": "code",
      "source": [],
      "metadata": {
        "id": "8hmaRF8h6HPf"
      },
      "execution_count": null,
      "outputs": []
    }
  ]
}