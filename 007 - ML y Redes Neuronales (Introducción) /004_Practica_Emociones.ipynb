{
  "nbformat": 4,
  "nbformat_minor": 0,
  "metadata": {
    "colab": {
      "provenance": []
    },
    "kernelspec": {
      "name": "python3",
      "display_name": "Python 3"
    },
    "language_info": {
      "name": "python"
    }
  },
  "cells": [
    {
      "cell_type": "code",
      "execution_count": 1,
      "metadata": {
        "id": "mb_z9LsZhY8w"
      },
      "outputs": [],
      "source": [
        "# Importar bibliotecas necesarias\n",
        "import pandas as pd\n",
        "import tensorflow as tf\n",
        "from tensorflow.keras.preprocessing.text import Tokenizer\n",
        "from tensorflow.keras.preprocessing.sequence import pad_sequences"
      ]
    },
    {
      "cell_type": "code",
      "source": [
        "# Crear dataset extendido con 40 frases y 4 emociones\n",
        "data = {\n",
        "    \"texto\": [\n",
        "        # Alegría 😊\n",
        "        \"Hoy me siento muy feliz y motivado\",\n",
        "        \"Estoy agradecido por este hermoso día\",\n",
        "        \"Reí todo el día con mis amigos\",\n",
        "        \"Escuchar música me llena de alegría\",\n",
        "        \"Disfruté una comida riquísima en familia\",\n",
        "        \"Amo cuando el cielo está despejado\",\n",
        "        \"Recibí una buena noticia y no puedo dejar de sonreír\",\n",
        "        \"Me encanta compartir tiempo con mi perro\",\n",
        "        \"Terminé un proyecto importante y me siento genial\",\n",
        "        \"Bailar me hace sentir libre y contento\",\n",
        "\n",
        "        # Tristeza 😢\n",
        "        \"Perdí algo muy importante para mí\",\n",
        "        \"Me siento solo y vacío por dentro\",\n",
        "        \"Me dieron una mala noticia y no puedo parar de llorar\",\n",
        "        \"Extraño a alguien que ya no está\",\n",
        "        \"Nada me motiva últimamente\",\n",
        "        \"Hoy desperté sin ganas de hacer nada\",\n",
        "        \"Estoy cansado de sentirme mal\",\n",
        "        \"A veces me invade una tristeza profunda\",\n",
        "        \"No encuentro sentido a lo que hago\",\n",
        "        \"Me cuesta levantarme por las mañanas\",\n",
        "\n",
        "        # Enojo 😡\n",
        "        \"Estoy tan enojado que no quiero hablar\",\n",
        "        \"¡No soporto que hagan eso otra vez!\",\n",
        "        \"¡Esto es completamente inaceptable!\",\n",
        "        \"Me molesta cuando no me escuchan\",\n",
        "        \"Gritaron sin razón y me sentí mal\",\n",
        "        \"Perdí la paciencia por completo\",\n",
        "        \"Odio cuando me ignoran\",\n",
        "        \"Estoy harto de la misma situación todos los días\",\n",
        "        \"Me siento frustrado por no poder cambiar las cosas\",\n",
        "        \"Me sacaron de quicio hoy en el trabajo\",\n",
        "\n",
        "        # Miedo 😨\n",
        "        \"Tengo miedo de lo que pueda pasar mañana\",\n",
        "        \"Siento ansiedad cuando estoy solo de noche\",\n",
        "        \"No puedo dormir, tengo pesadillas constantes\",\n",
        "        \"Cada ruido me sobresalta en la oscuridad\",\n",
        "        \"Temo por el futuro\",\n",
        "        \"A veces siento que algo malo va a pasar\",\n",
        "        \"Me cuesta salir de casa por miedo\",\n",
        "        \"La incertidumbre me paraliza\",\n",
        "        \"Siento un nudo en el estómago por nervios\",\n",
        "        \"Me preocupa mucho la salud de mi familia\"\n",
        "    ],\n",
        "    \"etiquetas\": [\n",
        "        0, 0, 0, 0, 0, 0, 0, 0, 0, 0,  # Alegría\n",
        "        1, 1, 1, 1, 1, 1, 1, 1, 1, 1,  # Tristeza\n",
        "        2, 2, 2, 2, 2, 2, 2, 2, 2, 2,  # Enojo\n",
        "        3, 3, 3, 3, 3, 3, 3, 3, 3, 3   # Miedo\n",
        "    ]\n",
        "}\n",
        "\n",
        "# Convertir a DataFrame\n",
        "datos = pd.DataFrame(data)\n",
        "\n",
        "# Guardar como CSV\n",
        "datos.to_csv(\"dataset_emociones.csv\", index=False)\n",
        "\n",
        "print(\"📁 Archivo 'dataset_emociones.csv' creado con éxito.\")\n"
      ],
      "metadata": {
        "colab": {
          "base_uri": "https://localhost:8080/"
        },
        "id": "IE1WR3S2hntu",
        "outputId": "bbb9e38a-013f-4c67-d50d-621d14e9317f"
      },
      "execution_count": 2,
      "outputs": [
        {
          "output_type": "stream",
          "name": "stdout",
          "text": [
            "📁 Archivo 'dataset_emociones.csv' creado con éxito.\n"
          ]
        }
      ]
    },
    {
      "cell_type": "code",
      "source": [
        "# Cargar el conjunto de datos de texto\n",
        "datos = pd.read_csv(\"dataset_emociones.csv\")"
      ],
      "metadata": {
        "id": "t7dPPfJOhoOE"
      },
      "execution_count": 4,
      "outputs": []
    },
    {
      "cell_type": "code",
      "source": [
        "# Tokenización del texto\n",
        "tokenizer = Tokenizer(num_words=5000)\n",
        "tokenizer.fit_on_texts(datos[\"texto\"])\n",
        "secuencias = tokenizer.texts_to_sequences(datos[\"texto\"])\n",
        "maxlen = 10  # Longitud máxima de las secuencias\n",
        "X = pad_sequences(secuencias, maxlen=maxlen)\n",
        "y = datos[\"etiquetas\"].values"
      ],
      "metadata": {
        "id": "wTZ7P-b85zbE"
      },
      "execution_count": 5,
      "outputs": []
    },
    {
      "cell_type": "code",
      "source": [
        "# Cambiar el modelo a uno adecuado para texto\n",
        "modelo = tf.keras.Sequential([\n",
        "    tf.keras.layers.Embedding(input_dim=5000, output_dim=64, input_length=maxlen),\n",
        "    tf.keras.layers.GlobalAveragePooling1D(),\n",
        "    tf.keras.layers.Dense(units=1, activation='sigmoid')  # Cambiar según el caso de uso\n",
        "])"
      ],
      "metadata": {
        "id": "Lx3iMaBf51X_",
        "colab": {
          "base_uri": "https://localhost:8080/"
        },
        "outputId": "b886ad1b-4ee4-4a18-9cae-eac091487814"
      },
      "execution_count": 6,
      "outputs": [
        {
          "output_type": "stream",
          "name": "stderr",
          "text": [
            "/usr/local/lib/python3.11/dist-packages/keras/src/layers/core/embedding.py:90: UserWarning: Argument `input_length` is deprecated. Just remove it.\n",
            "  warnings.warn(\n"
          ]
        }
      ]
    },
    {
      "cell_type": "code",
      "source": [
        "# Compilación del modelo\n",
        "modelo.compile(\n",
        "    optimizer=tf.keras.optimizers.Adam(),\n",
        "    loss=\"binary_crossentropy\",\n",
        "    metrics=[\"accuracy\"]\n",
        ")"
      ],
      "metadata": {
        "id": "O7UihT4C53Pi"
      },
      "execution_count": 7,
      "outputs": []
    },
    {
      "cell_type": "code",
      "source": [
        "# Entrenamiento del modelo\n",
        "entrenamiento = modelo.fit(X, y, epochs=15, batch_size=2)"
      ],
      "metadata": {
        "id": "xbd0twWW5404",
        "colab": {
          "base_uri": "https://localhost:8080/"
        },
        "outputId": "c29e1f78-b053-48fe-e9ea-86b51c0439dc"
      },
      "execution_count": 8,
      "outputs": [
        {
          "output_type": "stream",
          "name": "stdout",
          "text": [
            "Epoch 1/15\n",
            "\u001b[1m20/20\u001b[0m \u001b[32m━━━━━━━━━━━━━━━━━━━━\u001b[0m\u001b[37m\u001b[0m \u001b[1m1s\u001b[0m 5ms/step - accuracy: 0.2904 - loss: 0.6497\n",
            "Epoch 2/15\n",
            "\u001b[1m20/20\u001b[0m \u001b[32m━━━━━━━━━━━━━━━━━━━━\u001b[0m\u001b[37m\u001b[0m \u001b[1m0s\u001b[0m 5ms/step - accuracy: 0.3862 - loss: 0.4884\n",
            "Epoch 3/15\n",
            "\u001b[1m20/20\u001b[0m \u001b[32m━━━━━━━━━━━━━━━━━━━━\u001b[0m\u001b[37m\u001b[0m \u001b[1m0s\u001b[0m 6ms/step - accuracy: 0.2885 - loss: 0.3432\n",
            "Epoch 4/15\n",
            "\u001b[1m20/20\u001b[0m \u001b[32m━━━━━━━━━━━━━━━━━━━━\u001b[0m\u001b[37m\u001b[0m \u001b[1m0s\u001b[0m 5ms/step - accuracy: 0.3349 - loss: 0.0363\n",
            "Epoch 5/15\n",
            "\u001b[1m20/20\u001b[0m \u001b[32m━━━━━━━━━━━━━━━━━━━━\u001b[0m\u001b[37m\u001b[0m \u001b[1m0s\u001b[0m 5ms/step - accuracy: 0.1879 - loss: -0.3525\n",
            "Epoch 6/15\n",
            "\u001b[1m20/20\u001b[0m \u001b[32m━━━━━━━━━━━━━━━━━━━━\u001b[0m\u001b[37m\u001b[0m \u001b[1m0s\u001b[0m 5ms/step - accuracy: 0.2338 - loss: -0.5575\n",
            "Epoch 7/15\n",
            "\u001b[1m20/20\u001b[0m \u001b[32m━━━━━━━━━━━━━━━━━━━━\u001b[0m\u001b[37m\u001b[0m \u001b[1m0s\u001b[0m 5ms/step - accuracy: 0.2095 - loss: -0.8858\n",
            "Epoch 8/15\n",
            "\u001b[1m20/20\u001b[0m \u001b[32m━━━━━━━━━━━━━━━━━━━━\u001b[0m\u001b[37m\u001b[0m \u001b[1m0s\u001b[0m 5ms/step - accuracy: 0.2048 - loss: -1.2708\n",
            "Epoch 9/15\n",
            "\u001b[1m20/20\u001b[0m \u001b[32m━━━━━━━━━━━━━━━━━━━━\u001b[0m\u001b[37m\u001b[0m \u001b[1m0s\u001b[0m 5ms/step - accuracy: 0.2041 - loss: -1.9638\n",
            "Epoch 10/15\n",
            "\u001b[1m20/20\u001b[0m \u001b[32m━━━━━━━━━━━━━━━━━━━━\u001b[0m\u001b[37m\u001b[0m \u001b[1m0s\u001b[0m 5ms/step - accuracy: 0.2580 - loss: -1.4014\n",
            "Epoch 11/15\n",
            "\u001b[1m20/20\u001b[0m \u001b[32m━━━━━━━━━━━━━━━━━━━━\u001b[0m\u001b[37m\u001b[0m \u001b[1m0s\u001b[0m 6ms/step - accuracy: 0.3046 - loss: -2.4028\n",
            "Epoch 12/15\n",
            "\u001b[1m20/20\u001b[0m \u001b[32m━━━━━━━━━━━━━━━━━━━━\u001b[0m\u001b[37m\u001b[0m \u001b[1m0s\u001b[0m 5ms/step - accuracy: 0.2535 - loss: -1.6926\n",
            "Epoch 13/15\n",
            "\u001b[1m20/20\u001b[0m \u001b[32m━━━━━━━━━━━━━━━━━━━━\u001b[0m\u001b[37m\u001b[0m \u001b[1m0s\u001b[0m 5ms/step - accuracy: 0.3120 - loss: -2.6128\n",
            "Epoch 14/15\n",
            "\u001b[1m20/20\u001b[0m \u001b[32m━━━━━━━━━━━━━━━━━━━━\u001b[0m\u001b[37m\u001b[0m \u001b[1m0s\u001b[0m 5ms/step - accuracy: 0.2323 - loss: -2.9701\n",
            "Epoch 15/15\n",
            "\u001b[1m20/20\u001b[0m \u001b[32m━━━━━━━━━━━━━━━━━━━━\u001b[0m\u001b[37m\u001b[0m \u001b[1m0s\u001b[0m 5ms/step - accuracy: 0.1824 - loss: -3.9727\n"
          ]
        }
      ]
    },
    {
      "cell_type": "code",
      "source": [
        "# Predicción con ejemplo de texto\n",
        "texto_ejemplo = \"Me preocupa mucho la salud de mi familia\"\n",
        "secuencia_ejemplo = tokenizer.texts_to_sequences([texto_ejemplo])\n",
        "secuencia_ejemplo = pad_sequences(secuencia_ejemplo, maxlen=maxlen)\n",
        "prediccion = modelo.predict(secuencia_ejemplo)\n",
        "print(f\"Predicción para el texto '{texto_ejemplo}': {prediccion[0]}\")"
      ],
      "metadata": {
        "id": "5FuKBr-u5xs6",
        "colab": {
          "base_uri": "https://localhost:8080/"
        },
        "outputId": "f3c4c5d3-6db2-4598-cdda-7bd9447fe8cf"
      },
      "execution_count": 13,
      "outputs": [
        {
          "output_type": "stream",
          "name": "stdout",
          "text": [
            "\u001b[1m1/1\u001b[0m \u001b[32m━━━━━━━━━━━━━━━━━━━━\u001b[0m\u001b[37m\u001b[0m \u001b[1m0s\u001b[0m 38ms/step\n",
            "Predicción para el texto 'Me preocupa mucho la salud de mi familia': [0.18573086 0.15267527 0.19631031 0.46528354]\n"
          ]
        }
      ]
    },
    {
      "cell_type": "code",
      "source": [
        "import matplotlib.pyplot as plt\n",
        "\n",
        "plt.plot(entrenamiento.history['accuracy'], label='Precisión')\n",
        "plt.plot(entrenamiento.history['loss'], label='Pérdida')\n",
        "plt.xlabel(\"Épocas\")\n",
        "plt.ylabel(\"Valor\")\n",
        "plt.title(\"Evolución del entrenamiento\")\n",
        "plt.legend()\n",
        "plt.show()\n"
      ],
      "metadata": {
        "colab": {
          "base_uri": "https://localhost:8080/",
          "height": 474
        },
        "id": "Dj1m8Kgci8Vh",
        "outputId": "232cd16d-fff0-4cdb-f2ff-f5646cb42b46"
      },
      "execution_count": 11,
      "outputs": [
        {
          "output_type": "display_data",
          "data": {
            "text/plain": [
              "<Figure size 640x480 with 1 Axes>"
            ],
            "image/png": "[encoded data removed]"
          },
          "metadata": {}
        }
      ]
    },
    {
      "cell_type": "code",
      "source": [
        "emociones = ['alegría', 'tristeza', 'enojo', 'miedo']\n",
        "\n",
        "texto_ejemplo = \"Tengo miedo de salir solo\"\n",
        "seq = tokenizer.texts_to_sequences([texto_ejemplo])\n",
        "seq = pad_sequences(seq, maxlen=10)\n",
        "pred = modelo.predict(seq)\n",
        "print(f\"Predicción: {emociones[pred.argmax()]} ({pred})\")\n"
      ],
      "metadata": {
        "colab": {
          "base_uri": "https://localhost:8080/"
        },
        "id": "8Vn1JRqfi_VI",
        "outputId": "2f26dbb3-d0dc-43c8-a490-2ce423df84ea"
      },
      "execution_count": 12,
      "outputs": [
        {
          "output_type": "stream",
          "name": "stdout",
          "text": [
            "\u001b[1m1/1\u001b[0m \u001b[32m━━━━━━━━━━━━━━━━━━━━\u001b[0m\u001b[37m\u001b[0m \u001b[1m0s\u001b[0m 74ms/step\n",
            "Predicción: miedo ([[0.14521183 0.21304967 0.19314316 0.4485953 ]])\n"
          ]
        }
      ]
    },
    {
      "cell_type": "code",
      "source": [
        "# Importar la librería para visualización de datos\n",
        "import matplotlib.pyplot as plt\n",
        "from tensorflow.keras.preprocessing.sequence import pad_sequences\n",
        "\n",
        "# Definir las posibles emociones que el modelo puede predecir\n",
        "emociones = ['alegría', 'tristeza', 'enojo', 'miedo'] # Asegúrate de que el orden aquí coincide con el orden de tus etiquetas originales (0, 1, 2, 3)\n",
        "\n",
        "# Este es el texto que quieres que el modelo analice\n",
        "texto_ejemplo = \"Me preocupa mucho la salud de mi familia\" # AQUI CAMBIA LA FRASE\n",
        "\n",
        "# Tokenizar el texto de ejemplo: convertir las palabras en números según el vocabulario del modelo\n",
        "# 'tokenizer' debe ser el mismo objeto Tokenizer que usaste para entrenar el modelo\n",
        "secuencia_ejemplo = tokenizer.texts_to_sequences([texto_ejemplo])\n",
        "\n",
        "# Rellenar o cortar la secuencia para que tenga la misma longitud que las secuencias de entrenamiento\n",
        "# 'maxlen' debe ser la misma longitud máxima que usaste para entrenar el modelo (en tu caso, 10)\n",
        "secuencia_ejemplo = pad_sequences(secuencia_ejemplo, maxlen=maxlen)\n",
        "\n",
        "# Hacer la predicción usando el modelo entrenado\n",
        "# 'modelo' debe ser el objeto del modelo de TensorFlow que entrenaste\n",
        "prediccion = modelo.predict(secuencia_ejemplo)[0] # Tomamos el primer (y único) resultado de la predicción\n",
        "\n",
        "# Crear un gráfico de barras para visualizar las probabilidades de cada emoción\n",
        "plt.figure(figsize=(8, 5)) # Opcional: ajusta el tamaño del gráfico\n",
        "plt.bar(emociones, prediccion, color='skyblue')\n",
        "\n",
        "# Añadir etiquetas y título al gráfico\n",
        "plt.xlabel('Emoción')\n",
        "plt.ylabel('Probabilidad')\n",
        "plt.title('Probabilidades por emoción')\n",
        "\n",
        "# Establecer el rango del eje Y de 0 a 1, ya que son probabilidades\n",
        "plt.ylim(0, 1)\n",
        "\n",
        "# Añadir una cuadrícula para facilitar la lectura (opcional)\n",
        "plt.grid(True, axis='y', linestyle='--', alpha=0.7)\n",
        "\n",
        "# Mostrar el gráfico\n",
        "plt.show()\n",
        "\n",
        "# Imprimir la emoción con la probabilidad más alta\n",
        "indice_predicho = prediccion.argmax() # Encuentra el índice de la probabilidad más alta\n",
        "emocion_predicha = emociones[indice_predicho] # Obtiene el nombre de la emoción correspondiente\n",
        "probabilidad_maxima = prediccion[indice_predicho] # Obtiene la probabilidad más alta\n",
        "print(f\"La emoción predicha es: {emocion_predicha} (con una probabilidad de: {probabilidad_maxima:.2f})\")"
      ],
      "metadata": {
        "colab": {
          "base_uri": "https://localhost:8080/",
          "height": 524
        },
        "id": "QMEGanRelr4X",
        "outputId": "2cd1d5aa-1f8c-4291-9f5e-f8a0819227c7"
      },
      "execution_count": 22,
      "outputs": [
        {
          "output_type": "stream",
          "name": "stdout",
          "text": [
            "\u001b[1m1/1\u001b[0m \u001b[32m━━━━━━━━━━━━━━━━━━━━\u001b[0m\u001b[37m\u001b[0m \u001b[1m0s\u001b[0m 38ms/step\n"
          ]
        },
        {
          "output_type": "display_data",
          "data": {
            "text/plain": [
              "<Figure size 800x500 with 1 Axes>"
            ],
            "image/png": "[encoded data removed]"
          },
          "metadata": {}
        },
        {
          "output_type": "stream",
          "name": "stdout",
          "text": [
            "La emoción predicha es: miedo (con una probabilidad de: 0.51)\n"
          ]
        }
      ]
    },
    {
      "cell_type": "code",
      "source": [
        "from sklearn.metrics import confusion_matrix, ConfusionMatrixDisplay\n",
        "import numpy as np\n",
        "\n",
        "# Obtener predicciones reales y predichas\n",
        "y_true = datos[\"etiquetas\"].values\n",
        "y_pred = modelo.predict(X).argmax(axis=1)\n",
        "\n",
        "cm = confusion_matrix(y_true, y_pred)\n",
        "disp = ConfusionMatrixDisplay(confusion_matrix=cm, display_labels=emociones)\n",
        "disp.plot(cmap='Blues')\n",
        "plt.show()\n"
      ],
      "metadata": {
        "colab": {
          "base_uri": "https://localhost:8080/",
          "height": 473
        },
        "id": "P_JJ2E5cjOzU",
        "outputId": "af702dac-a19b-480b-c383-de2c09c4aa8f"
      },
      "execution_count": 14,
      "outputs": [
        {
          "output_type": "stream",
          "name": "stdout",
          "text": [
            "\u001b[1m2/2\u001b[0m \u001b[32m━━━━━━━━━━━━━━━━━━━━\u001b[0m\u001b[37m\u001b[0m \u001b[1m0s\u001b[0m 47ms/step\n"
          ]
        },
        {
          "output_type": "display_data",
          "data": {
            "text/plain": [
              "<Figure size 640x480 with 2 Axes>"
            ],
            "image/png": "[encoded data removed]"
          },
          "metadata": {}
        }
      ]
    },
    {
      "cell_type": "markdown",
      "source": [
        "📊 El modelo clasificó correctamente todos los casos:\n",
        "\n",
        "- 10 aciertos para alegría\n",
        "\n",
        "- 10 aciertos para tristeza\n",
        "\n",
        "- 10 aciertos para enojo\n",
        "\n",
        "- 10 aciertos para miedo\n",
        "\n",
        "No hay errores de clasificación (todas las celdas fuera de la diagonal son ceros).\n",
        "\n"
      ],
      "metadata": {
        "id": "Zqbfz38hkwC3"
      }
    },
    {
      "cell_type": "markdown",
      "source": [
        "El modelo tiene 100% de precisión y recall para cada clase.\n",
        "\n",
        "- Esto indica que el conjunto de prueba es perfectamente clasificado por el modelo.\n",
        "\n",
        "- Puede ser una buena señal, pero también puede sugerir:\n",
        "\n",
        "Que el conjunto de datos es muy pequeño o demasiado simple.\n",
        "\n",
        "Que el modelo puede estar sobreajustado (overfitting) si el rendimiento no es igual en datos nuevos."
      ],
      "metadata": {
        "id": "lmPQfaIrk0_J"
      }
    }
  ]
}