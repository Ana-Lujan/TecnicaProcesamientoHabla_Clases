{
  "nbformat": 4,
  "nbformat_minor": 0,
  "metadata": {
    "colab": {
      "provenance": []
    },
    "kernelspec": {
      "name": "python3",
      "display_name": "Python 3"
    },
    "language_info": {
      "name": "python"
    }
  },
  "cells": [
    {
      "cell_type": "code",
      "execution_count": 2,
      "metadata": {
        "id": "CLaiBYEE0nr3"
      },
      "outputs": [],
      "source": [
        "import numpy as np\n",
        "\n",
        "# Frases con su etiqueta de sentimiento (1 = positivo, 0 = negativo)\n",
        "frases = [\n",
        "    \"Amo el verano en Buenos Aires\",\n",
        "    \"No me gusta el tráfico matutino\",\n",
        "    \"Este asado está espectacular\",\n",
        "    \"Qué bajón, perdí el colectivo\",\n",
        "    \"Me encanta salir los domingos\",\n",
        "    \"Detesto el calor húmedo\"\n",
        "]\n",
        "\n",
        "etiquetas = np.array([1, 0, 1, 0, 1, 0])  # Etiquetas\n",
        "\n",
        "# Vocabulario manual con palabras claves de carga emocional\n",
        "vocabulario = [\"amo\", \"no\", \"gusta\", \"asado\", \"espectacular\", \"bajón\", \"perdí\", \"detesto\", \"calor\", \"húmedo\"]\n"
      ]
    },
    {
      "cell_type": "code",
      "source": [
        "frases_nuevas = [\n",
        "    \"Qué alegría ver a mi familia\", \"El almuerzo estuvo delicioso\", \"Hoy me siento increíble\",\n",
        "    \"Qué buena película\", \"Disfruté mucho la tarde\", \"Estoy agradecido por este día\",\n",
        "    \"Hermoso paseo por el parque\", \"El café me levantó el ánimo\", \"Todo salió como esperaba\",\n",
        "    \"Qué suerte la mía\", \"Amo cómo huele la lluvia\", \"Logré terminar todo lo que tenía que hacer\",\n",
        "    \"Qué feliz me pone esta canción\", \"Esta charla me inspiró\", \"El clima es perfecto hoy\",\n",
        "\n",
        "    \"Odio levantarme temprano\", \"Estoy agotado y sin ganas\", \"Qué día más largo y pesado\",\n",
        "    \"Nada salió bien hoy\", \"Estoy estresado con tanto trabajo\", \"Me siento frustrado\",\n",
        "    \"La película fue una pérdida de tiempo\", \"Este clima me deprime\", \"No aguanto más el ruido\",\n",
        "    \"El colectivo nunca llega\", \"No pude dormir nada\", \"Todo me sale mal últimamente\",\n",
        "    \"Me duele la cabeza otra vez\", \"No quiero hablar con nadie\", \"Todo me molesta hoy\"\n",
        "]\n",
        "\n",
        "etiquetas_nuevas = np.array([1]*15 + [0]*15)  # 15 positivas, 15 negativas\n",
        "\n",
        "# Unimos las frases\n",
        "todas_las_frases = frases + frases_nuevas\n",
        "todas_las_etiquetas = np.concatenate([etiquetas, etiquetas_nuevas])\n"
      ],
      "metadata": {
        "id": "Zpp6EcxE1MIA"
      },
      "execution_count": 3,
      "outputs": []
    },
    {
      "cell_type": "code",
      "source": [
        "from sklearn.feature_extraction.text import CountVectorizer\n",
        "\n",
        "vectorizer = CountVectorizer()\n",
        "X = vectorizer.fit_transform(todas_las_frases)\n"
      ],
      "metadata": {
        "id": "LOVF3EaN1SdM"
      },
      "execution_count": 5,
      "outputs": []
    },
    {
      "cell_type": "code",
      "source": [
        "from sklearn.model_selection import train_test_split\n",
        "from sklearn.linear_model import LogisticRegression\n",
        "from sklearn.metrics import confusion_matrix, ConfusionMatrixDisplay, roc_curve, RocCurveDisplay\n",
        "import matplotlib.pyplot as plt\n",
        "\n",
        "X_train, X_test, y_train, y_test = train_test_split(X, todas_las_etiquetas, test_size=0.3, random_state=42)\n",
        "\n",
        "modelo = LogisticRegression()\n",
        "modelo.fit(X_train, y_train)\n",
        "\n",
        "y_pred = modelo.predict(X_test)\n",
        "y_proba = modelo.predict_proba(X_test)[:, 1]\n"
      ],
      "metadata": {
        "id": "lENo7c941TKP"
      },
      "execution_count": 6,
      "outputs": []
    },
    {
      "cell_type": "code",
      "source": [
        "cm = confusion_matrix(y_test, y_pred)\n",
        "disp = ConfusionMatrixDisplay(confusion_matrix=cm)\n",
        "disp.plot()\n",
        "plt.title(\"Matriz de Confusión\")\n",
        "plt.show()\n"
      ],
      "metadata": {
        "colab": {
          "base_uri": "https://localhost:8080/",
          "height": 472
        },
        "id": "0RaZ5UOY1XHK",
        "outputId": "83e74c3b-3cbb-4798-b3c1-44b0f50bd42a"
      },
      "execution_count": 7,
      "outputs": [
        {
          "output_type": "display_data",
          "data": {
            "text/plain": [
              "<Figure size 640x480 with 2 Axes>"
            ],
            "image/png": "[encoded data removed]"
          },
          "metadata": {}
        }
      ]
    },
    {
      "cell_type": "markdown",
      "source": [
        "✅ Verdaderos positivos (TP) = 3 → frases positivas que el modelo clasificó correctamente como positivas.\n",
        "\n",
        "✅ Verdaderos negativos (TN) = 4 → frases negativas que el modelo clasificó correctamente como negativas.\n",
        "\n",
        "❌ Falsos positivos (FP) = 1 → frase negativa que fue clasificada como positiva.\n",
        "\n",
        "❌ Falsos negativos (FN) = 3 → frases positivas que fueron clasificadas como negativas.\n",
        "\n"
      ],
      "metadata": {
        "id": "kxam20e7huGh"
      }
    },
    {
      "cell_type": "code",
      "source": [
        "fpr, tpr, _ = roc_curve(y_test, y_proba)\n",
        "roc_disp = RocCurveDisplay(fpr=fpr, tpr=tpr)\n",
        "roc_disp.plot()\n",
        "plt.title(\"Curva ROC\")\n",
        "plt.show()\n"
      ],
      "metadata": {
        "colab": {
          "base_uri": "https://localhost:8080/",
          "height": 528
        },
        "id": "GmZqGvMU1ZHq",
        "outputId": "61921427-69fd-4539-b495-1ba6629229cd"
      },
      "execution_count": 8,
      "outputs": [
        {
          "output_type": "stream",
          "name": "stderr",
          "text": [
            "/usr/local/lib/python3.11/dist-packages/sklearn/metrics/_plot/roc_curve.py:189: UserWarning: No artists with labels found to put in legend.  Note that artists whose label start with an underscore are ignored when legend() is called with no argument.\n",
            "  self.ax_.legend(loc=\"lower right\")\n"
          ]
        },
        {
          "output_type": "display_data",
          "data": {
            "text/plain": [
              "<Figure size 640x480 with 1 Axes>"
            ],
            "image/png": "[encoded data removed]"
          },
          "metadata": {}
        }
      ]
    },
    {
      "cell_type": "markdown",
      "source": [
        "La curva sube de manera escalonada, lo que indica que el modelo tiene cierto poder de discriminación.\n",
        "\n",
        "La curva no es completamente diagonal, lo que significa que el modelo es mejor que uno aleatorio.\n",
        "\n",
        "Pero no es una curva ideal (que subiría rápidamente al punto (0,1)), así que hay margen de mejora.\n",
        "\n"
      ],
      "metadata": {
        "id": "xnX6gTGch86q"
      }
    },
    {
      "cell_type": "code",
      "source": [
        "import numpy as np\n",
        "\n",
        "importancias = np.abs(modelo.coef_[0])\n",
        "palabras = np.array(vectorizer.get_feature_names_out())\n",
        "\n",
        "indices = np.argsort(importancias)[-10:]  # Top 10\n",
        "plt.barh(palabras[indices], importancias[indices])\n",
        "plt.title(\"Top 10 palabras más influyentes\")\n",
        "plt.xlabel(\"Peso del modelo\")\n",
        "plt.show()\n"
      ],
      "metadata": {
        "colab": {
          "base_uri": "https://localhost:8080/",
          "height": 472
        },
        "id": "l5OuZSUR1bHz",
        "outputId": "98317f1a-73fe-4641-f542-4b535a431af5"
      },
      "execution_count": 9,
      "outputs": [
        {
          "output_type": "display_data",
          "data": {
            "text/plain": [
              "<Figure size 640x480 with 1 Axes>"
            ],
            "image/png": "[encoded data removed]"
          },
          "metadata": {}
        }
      ]
    },
    {
      "cell_type": "markdown",
      "source": [
        "Palabras como \"no\", \"deprime\", \"nada\" están asociadas probablemente con sentimiento negativo.\n",
        "\n",
        "Palabras como \"bien\", \"perfecto\", \"más\", suelen indicar un sentimiento positivo.\n",
        "\n",
        "Algunas como \"con\", \"como\", \"es\", son neutras por sí solas, pero pueden ser parte de frases significativas."
      ],
      "metadata": {
        "id": "B0mJlNGKiNwS"
      }
    },
    {
      "cell_type": "markdown",
      "source": [
        "# Aumentamos a 70 frases"
      ],
      "metadata": {
        "id": "sTlCTVcLijy-"
      }
    },
    {
      "cell_type": "code",
      "source": [
        "# Importamos las bibliotecas necesarias\n",
        "from sklearn.feature_extraction.text import TfidfVectorizer\n",
        "from sklearn.linear_model import LogisticRegression\n",
        "from sklearn.model_selection import train_test_split\n",
        "from sklearn.metrics import confusion_matrix, ConfusionMatrixDisplay, roc_curve, RocCurveDisplay\n",
        "import matplotlib.pyplot as plt\n",
        "import numpy as np"
      ],
      "metadata": {
        "id": "-y9XoVjtkszD"
      },
      "execution_count": 9,
      "outputs": []
    },
    {
      "cell_type": "code",
      "source": [
        "# Definimos las frases y las etiquetas aquí para asegurar la consistencia\n",
        "frases = [\n",
        "    # Positivas (1)\n",
        "    \"Me siento muy bien hoy\", \"Estoy feliz con mi trabajo\", \"La comida estuvo excelente\",\n",
        "    \"Me encanta este clima\", \"Tuve un día productivo\", \"Estoy agradecido por mi familia\",\n",
        "    \"Me siento amado\", \"Qué buena noticia recibí\", \"Estoy motivado para seguir\", \"Todo está saliendo perfecto\",\n",
        "    \"Qué alegría ver a mi familia\", \"El almuerzo estuvo delicioso\", \"Hoy me siento increíble\",\n",
        "    \"Qué buena película\", \"Disfruté mucho la tarde\", \"Estoy agradecido por este día\",\n",
        "    \"Hermoso paseo por el parque\", \"El café me levantó el ánimo\", \"Todo salió como esperaba\",\n",
        "    \"Qué suerte la mía\", \"Amo cómo huele la lluvia\", \"Logré terminar todo lo que tenía que hacer\",\n",
        "    \"Qué feliz me pone esta canción\", \"Esta charla me inspiró\", \"El clima es perfecto hoy\",\n",
        "    \"Me felicitaron en el trabajo\", \"Recibí un mensaje que me alegró el día\", \"Estoy orgulloso de mí mismo\",\n",
        "    \"Pude resolver el problema fácilmente\", \"Todo fluyó sin complicaciones\", \"Ver el atardecer fue mágico\",\n",
        "    \"Pude ayudar a alguien hoy\", \"Me reí mucho esta mañana\", \"Estoy en paz conmigo mismo\",\n",
        "    \"La música me llenó de energía\", \"Estoy entusiasmado por lo que viene\",\n",
        "\n",
        "    # Negativas (0)\n",
        "    \"Hoy me siento mal\", \"Nada tiene sentido\", \"Estoy cansado de todo\", \"No tengo ganas de nada\",\n",
        "    \"Me siento triste\", \"Este día fue horrible\", \"No quiero hablar con nadie\", \"Odio este clima\",\n",
        "    \"Nada me sale bien\", \"Estoy frustrado con todo\", \"Odio levantarme temprano\", \"Estoy agotado y sin ganas\",\n",
        "    \"Qué día más largo y pesado\", \"Nada salió bien hoy\", \"Estoy estresado con tanto trabajo\",\n",
        "    \"Me siento frustrado\", \"La película fue una pérdida de tiempo\", \"Este clima me deprime\",\n",
        "    \"No aguanto más el ruido\", \"El colectivo nunca llega\", \"No pude dormir nada\",\n",
        "    \"Todo me sale mal últimamente\", \"Me duele la cabeza otra vez\", \"No quiero hablar con nadie\",\n",
        "    \"Todo me molesta hoy\", \"No entiendo nada de lo que pasa\", \"Otra vez los mismos problemas\",\n",
        "    \"Estoy harto de esta situación\", \"No tengo energía para nada\", \"Me siento solo\", \"No quiero seguir así\",\n",
        "    \"Estoy preocupado por el futuro\", \"Todo me abruma\", \"Me siento vacío\",\n",
        "    \"No encuentro sentido a nada\", \"No tengo fuerzas para continuar\"\n",
        "]\n",
        "\n",
        "etiquetas = np.array([1]*35 + [0]*37) # 35 positivas + 37 negativas = 72 etiquetas"
      ],
      "metadata": {
        "id": "izrBk19oknkj"
      },
      "execution_count": 10,
      "outputs": []
    },
    {
      "cell_type": "code",
      "source": [
        "# Vectorización - Aplicamos TfidfVectorizer a la lista 'frases' correcta\n",
        "vectorizador = TfidfVectorizer()\n",
        "X = vectorizador.fit_transform(frases) # Usamos las 'frases' definidas en esta celda\n",
        "y = etiquetas # Usamos las 'etiquetas' definidas en esta celda\n",
        "\n",
        "# --- Agrega estas líneas para verificar las dimensiones ---\n",
        "print(f\"Dimensiones de X antes de split: {X.shape}\")\n",
        "print(f\"Dimensiones de y antes de split: {y.shape}\")\n",
        "# --- Fin de la verificación ---"
      ],
      "metadata": {
        "colab": {
          "base_uri": "https://localhost:8080/"
        },
        "id": "bR4YahjekxJt",
        "outputId": "3fed9e42-97aa-4a63-b7ee-f8cff64ffe38"
      },
      "execution_count": 11,
      "outputs": [
        {
          "output_type": "stream",
          "name": "stdout",
          "text": [
            "Dimensiones de X antes de split: (72, 158)\n",
            "Dimensiones de y antes de split: (72,)\n"
          ]
        }
      ]
    },
    {
      "cell_type": "code",
      "source": [
        "# División entrenamiento/test\n",
        "X_train, X_test, y_train, y_test = train_test_split(X, y, test_size=0.2, random_state=42)\n",
        "\n",
        "# Modelo\n",
        "modelo = LogisticRegression()\n",
        "modelo.fit(X_train, y_train)\n",
        "\n",
        "# Predicciones\n",
        "y_pred = modelo.predict(X_test)\n",
        "y_proba = modelo.predict_proba(X_test)[:, 1]"
      ],
      "metadata": {
        "id": "RCYdzyXvk9hB"
      },
      "execution_count": 12,
      "outputs": []
    },
    {
      "cell_type": "code",
      "source": [
        "# Matriz de confusión\n",
        "cm = confusion_matrix(y_test, y_pred)\n",
        "disp = ConfusionMatrixDisplay(confusion_matrix=cm)\n",
        "disp.plot(cmap='viridis')\n",
        "plt.title(\"Matriz de Confusión\")\n",
        "plt.show()\n"
      ],
      "metadata": {
        "colab": {
          "base_uri": "https://localhost:8080/",
          "height": 472
        },
        "id": "U8MlrwoKk_oD",
        "outputId": "c36d73fe-ca28-4fd5-80b7-1700b6e013d6"
      },
      "execution_count": 13,
      "outputs": [
        {
          "output_type": "display_data",
          "data": {
            "text/plain": [
              "<Figure size 640x480 with 2 Axes>"
            ],
            "image/png": "[encoded data removed]"
          },
          "metadata": {}
        }
      ]
    },
    {
      "cell_type": "markdown",
      "source": [
        "✅ Verdaderos Negativos (4): el modelo predijo “negativo” correctamente.\n",
        "\n",
        "✅ Verdaderos Positivos (2): el modelo predijo “positivo” correctamente.\n",
        "\n",
        "❌ Falsos Positivos (1): el modelo predijo “positivo” pero era negativo.\n",
        "\n",
        "❌ Falsos Negativos (8): el modelo predijo “negativo” pero era positivo.\n",
        "\n"
      ],
      "metadata": {
        "id": "VctWqPCylQC5"
      }
    },
    {
      "cell_type": "markdown",
      "source": [
        "El modelo sigue tienendo dificultad para identificar emociones positivas:\n",
        "\n",
        "8 de 10 frases positivas fueron clasificadas como negativas. Es un alto número de falsos negativos.\n",
        "\n",
        "**¿Seguir agregando frases al data set?** -- Pendiente"
      ],
      "metadata": {
        "id": "wDZk48jLljfa"
      }
    },
    {
      "cell_type": "code",
      "source": [
        "# Curva ROC\n",
        "fpr, tpr, _ = roc_curve(y_test, y_proba)\n",
        "roc_disp = RocCurveDisplay(fpr=fpr, tpr=tpr)\n",
        "roc_disp.plot()\n",
        "plt.title(\"Curva ROC\")\n",
        "plt.show()"
      ],
      "metadata": {
        "colab": {
          "base_uri": "https://localhost:8080/",
          "height": 528
        },
        "id": "SI6cRpUrlBRN",
        "outputId": "dfbdfa31-c984-463d-a07d-825b1e1ca9dd"
      },
      "execution_count": 14,
      "outputs": [
        {
          "output_type": "stream",
          "name": "stderr",
          "text": [
            "/usr/local/lib/python3.11/dist-packages/sklearn/metrics/_plot/roc_curve.py:189: UserWarning: No artists with labels found to put in legend.  Note that artists whose label start with an underscore are ignored when legend() is called with no argument.\n",
            "  self.ax_.legend(loc=\"lower right\")\n"
          ]
        },
        {
          "output_type": "display_data",
          "data": {
            "text/plain": [
              "<Figure size 640x480 with 1 Axes>"
            ],
            "image/png": "[encoded data removed]"
          },
          "metadata": {}
        }
      ]
    },
    {
      "cell_type": "code",
      "source": [
        "# Palabras más influyentes\n",
        "pesos = modelo.coef_[0]\n",
        "palabras = vectorizador.get_feature_names_out()\n",
        "indices_top = np.argsort(np.abs(pesos))[::-1][:10]\n",
        "\n",
        "plt.barh(range(10), np.abs(pesos[indices_top]))\n",
        "plt.yticks(range(10), [palabras[i] for i in indices_top])\n",
        "plt.xlabel(\"Peso del modelo\")\n",
        "plt.title(\"Top 10 palabras más influyentes\")\n",
        "plt.gca().invert_yaxis()\n",
        "plt.show()"
      ],
      "metadata": {
        "colab": {
          "base_uri": "https://localhost:8080/",
          "height": 472
        },
        "id": "XrIZ1za1lDPB",
        "outputId": "abb0fb76-a779-4d4a-978c-57a81e4a2b8d"
      },
      "execution_count": 15,
      "outputs": [
        {
          "output_type": "display_data",
          "data": {
            "text/plain": [
              "<Figure size 640x480 with 1 Axes>"
            ],
            "image/png": "[encoded data removed]"
          },
          "metadata": {}
        }
      ]
    },
    {
      "cell_type": "markdown",
      "source": [
        "Seguimos ampliando en DATA SET"
      ],
      "metadata": {
        "id": "2KdYL51HmNck"
      }
    },
    {
      "cell_type": "code",
      "source": [
        "frases_extra = [\n",
        "    # Positivas\n",
        "    \"Hoy amanecí con energía y motivación\", \"Me encantó el mensaje que recibí\",\n",
        "    \"Disfruté mucho la reunión con amigos\", \"Estoy agradecido por las oportunidades\",\n",
        "    \"Ver a mis seres queridos me llena de alegría\", \"La música me pone de buen humor\",\n",
        "    \"Me reí mucho viendo videos graciosos\", \"Estoy feliz con mis logros\",\n",
        "    \"Me siento en paz\", \"Hoy fue un día productivo\",\n",
        "\n",
        "    # Negativas\n",
        "    \"No pude concentrarme en todo el día\", \"Estoy triste sin razón\",\n",
        "    \"Me siento sin fuerzas\", \"No encuentro sentido a lo que hago\",\n",
        "    \"Estoy cansado de luchar\", \"Me siento vacío\",\n",
        "    \"Todo es una carga últimamente\", \"No tengo ganas de seguir\",\n",
        "    \"Otra decepción más\", \"Me siento ignorado\"\n",
        "]\n",
        "\n",
        "etiquetas_extra = np.array([1]*10 + [0]*10)\n",
        "\n",
        "# Agregar al dataset usando las variables 'frases' y 'etiquetas' definidas en la celda anterior\n",
        "frases += frases_extra\n",
        "etiquetas = np.concatenate([etiquetas, etiquetas_extra])\n"
      ],
      "metadata": {
        "id": "JPoeUPrJmNF1"
      },
      "execution_count": 17,
      "outputs": []
    },
    {
      "cell_type": "markdown",
      "source": [
        "## Preprocesamiento"
      ],
      "metadata": {
        "id": "OT25_6ERmzDA"
      }
    },
    {
      "cell_type": "markdown",
      "source": [
        "Lematización y quitar Stopwords\n",
        "\n",
        "Usamos **nltk** y **spaCy** para mejorar el texto:"
      ],
      "metadata": {
        "id": "MDYUXjX5m4t_"
      }
    },
    {
      "cell_type": "code",
      "source": [
        "import nltk\n",
        "import spacy\n",
        "from nltk.corpus import stopwords\n",
        "nltk.download('stopwords')\n",
        "\n",
        "# Stopwords en español\n",
        "stop_words = set(stopwords.words('spanish'))\n",
        "\n",
        "# Cargar modelo de spaCy para lematizar\n",
        "# Instalar el modelo de spaCy para español si no está instalado\n",
        "try:\n",
        "    nlp = spacy.load('es_core_news_sm')\n",
        "except OSError:\n",
        "    print(\"Downloading spaCy model 'es_core_news_sm'...\")\n",
        "    !python -m spacy download es_core_news_sm\n",
        "    nlp = spacy.load('es_core_news_sm')\n",
        "\n",
        "\n",
        "def limpiar_y_lemmatizar(frase):\n",
        "    doc = nlp(frase.lower())\n",
        "    return ' '.join([token.lemma_ for token in doc if token.text not in stop_words and not token.is_punct])\n",
        "\n",
        "# Aseguramos que estamos procesando la lista correcta de frases\n",
        "# Si ya habías definido 'todas_las_frases' en una celda anterior, úsala.\n",
        "# Si no, asegúrate de que 'frases' contiene el conjunto completo de datos.\n",
        "# Basado en el código anterior, 'frases' ahora contiene todas las frases.\n",
        "frases_procesadas = [limpiar_y_lemmatizar(frase) for frase in frases]\n"
      ],
      "metadata": {
        "colab": {
          "base_uri": "https://localhost:8080/"
        },
        "id": "T1aI4h_bmeSE",
        "outputId": "052fd791-5dc3-4009-f8de-fe8dc3072f11"
      },
      "execution_count": 19,
      "outputs": [
        {
          "output_type": "stream",
          "name": "stderr",
          "text": [
            "[nltk_data] Downloading package stopwords to /root/nltk_data...\n",
            "[nltk_data]   Package stopwords is already up-to-date!\n"
          ]
        },
        {
          "output_type": "stream",
          "name": "stdout",
          "text": [
            "Downloading spaCy model 'es_core_news_sm'...\n",
            "Collecting es-core-news-sm==3.8.0\n",
            "  Downloading https://github.com/explosion/spacy-models/releases/download/es_core_news_sm-3.8.0/es_core_news_sm-3.8.0-py3-none-any.whl (12.9 MB)\n",
            "\u001b[2K     \u001b[90m━━━━━━━━━━━━━━━━━━━━━━━━━━━━━━━━━━━━━━━━\u001b[0m \u001b[32m12.9/12.9 MB\u001b[0m \u001b[31m76.5 MB/s\u001b[0m eta \u001b[36m0:00:00\u001b[0m\n",
            "\u001b[?25hInstalling collected packages: es-core-news-sm\n",
            "Successfully installed es-core-news-sm-3.8.0\n",
            "\u001b[38;5;2m✔ Download and installation successful\u001b[0m\n",
            "You can now load the package via spacy.load('es_core_news_sm')\n",
            "\u001b[38;5;3m⚠ Restart to reload dependencies\u001b[0m\n",
            "If you are in a Jupyter or Colab notebook, you may need to restart Python in\n",
            "order to load all the package's dependencies. You can do this by selecting the\n",
            "'Restart kernel' or 'Restart runtime' option.\n"
          ]
        }
      ]
    },
    {
      "cell_type": "markdown",
      "source": [
        "Probar **Random Forest** y **SVM**"
      ],
      "metadata": {
        "id": "MJnDxKwpnDLx"
      }
    },
    {
      "cell_type": "markdown",
      "source": [
        "Probamos con **RandomForestClassifier** y **SVC**:"
      ],
      "metadata": {
        "id": "4HFSE-COnJJt"
      }
    },
    {
      "cell_type": "code",
      "source": [
        "from sklearn.feature_extraction.text import TfidfVectorizer\n",
        "from sklearn.ensemble import RandomForestClassifier\n",
        "from sklearn.svm import SVC\n",
        "from sklearn.model_selection import train_test_split\n",
        "from sklearn.metrics import classification_report, confusion_matrix, roc_auc_score\n",
        "\n",
        "# TF-IDF con n-grams\n",
        "vectorizador = TfidfVectorizer(ngram_range=(1, 2))  # unigrams y bigrams\n",
        "X = vectorizador.fit_transform(frases_procesadas)\n",
        "y = etiquetas\n",
        "\n",
        "# División de datos\n",
        "X_train, X_test, y_train, y_test = train_test_split(X, y, test_size=0.2, random_state=42)\n",
        "\n",
        "# Modelo Random Forest\n",
        "modelo_rf = RandomForestClassifier()\n",
        "modelo_rf.fit(X_train, y_train)\n",
        "y_pred_rf = modelo_rf.predict(X_test)\n",
        "\n",
        "# Modelo SVM\n",
        "modelo_svm = SVC(probability=True)\n",
        "modelo_svm.fit(X_train, y_train)\n",
        "y_pred_svm = modelo_svm.predict(X_test)\n"
      ],
      "metadata": {
        "id": "MMs4oQoBnKav"
      },
      "execution_count": 21,
      "outputs": []
    },
    {
      "cell_type": "markdown",
      "source": [
        "**🧠 Métricas - Recordar**\n",
        "\n",
        "- **Accuracy**\tQué proporción total de predicciones fueron correctas\n",
        "\n",
        "- **Precision**\tDe los casos que el modelo dijo \"positivo\", ¿cuántos realmente lo eran?\n",
        "\n",
        "- **Recall**\tDe todos los positivos reales, ¿cuántos logró detectar?\n",
        "\n",
        "- **F1 Score**\tMedia entre precisión y recall. Equilibra ambos.\n",
        "\n",
        "- **ROC AUC**\tQué tan bien separa el modelo positivos y negativos (1 es perfecto)."
      ],
      "metadata": {
        "id": "s48DAtNcnuJo"
      }
    },
    {
      "cell_type": "code",
      "source": [
        "from sklearn.metrics import accuracy_score, precision_score, recall_score, f1_score\n",
        "\n",
        "print(\"=== Random Forest ===\")\n",
        "print(\"Accuracy:\", accuracy_score(y_test, y_pred_rf))\n",
        "print(\"Precision:\", precision_score(y_test, y_pred_rf))\n",
        "print(\"Recall:\", recall_score(y_test, y_pred_rf))\n",
        "print(\"F1 Score:\", f1_score(y_test, y_pred_rf))\n",
        "print(\"ROC AUC:\", roc_auc_score(y_test, modelo_rf.predict_proba(X_test)[:,1]))\n",
        "print(confusion_matrix(y_test, y_pred_rf))\n",
        "print(classification_report(y_test, y_pred_rf))\n",
        "\n",
        "print(\"\\n=== SVM ===\")\n",
        "print(\"Accuracy:\", accuracy_score(y_test, y_pred_svm))\n",
        "print(\"Precision:\", precision_score(y_test, y_pred_svm))\n",
        "print(\"Recall:\", recall_score(y_test, y_pred_svm))\n",
        "print(\"F1 Score:\", f1_score(y_test, y_pred_svm))\n",
        "print(\"ROC AUC:\", roc_auc_score(y_test, modelo_svm.predict_proba(X_test)[:,1]))\n",
        "print(confusion_matrix(y_test, y_pred_svm))\n",
        "print(classification_report(y_test, y_pred_svm))\n"
      ],
      "metadata": {
        "colab": {
          "base_uri": "https://localhost:8080/"
        },
        "id": "216HA7wNnks7",
        "outputId": "63538d39-43b2-4a8d-88b0-e7f2e59d2a37"
      },
      "execution_count": 22,
      "outputs": [
        {
          "output_type": "stream",
          "name": "stdout",
          "text": [
            "=== Random Forest ===\n",
            "Accuracy: 0.5789473684210527\n",
            "Precision: 1.0\n",
            "Recall: 0.1111111111111111\n",
            "F1 Score: 0.2\n",
            "ROC AUC: 0.8388888888888889\n",
            "[[10  0]\n",
            " [ 8  1]]\n",
            "              precision    recall  f1-score   support\n",
            "\n",
            "           0       0.56      1.00      0.71        10\n",
            "           1       1.00      0.11      0.20         9\n",
            "\n",
            "    accuracy                           0.58        19\n",
            "   macro avg       0.78      0.56      0.46        19\n",
            "weighted avg       0.77      0.58      0.47        19\n",
            "\n",
            "\n",
            "=== SVM ===\n",
            "Accuracy: 0.47368421052631576\n",
            "Precision: 0.4666666666666667\n",
            "Recall: 0.7777777777777778\n",
            "F1 Score: 0.5833333333333334\n",
            "ROC AUC: 0.6\n",
            "[[2 8]\n",
            " [2 7]]\n",
            "              precision    recall  f1-score   support\n",
            "\n",
            "           0       0.50      0.20      0.29        10\n",
            "           1       0.47      0.78      0.58         9\n",
            "\n",
            "    accuracy                           0.47        19\n",
            "   macro avg       0.48      0.49      0.43        19\n",
            "weighted avg       0.48      0.47      0.43        19\n",
            "\n"
          ]
        }
      ]
    },
    {
      "cell_type": "markdown",
      "source": [
        "# 🔍 RANDOM FOREST"
      ],
      "metadata": {
        "id": "4otFLu-eoqkN"
      }
    },
    {
      "cell_type": "markdown",
      "source": [
        "**Accuracy**: 0.578 → Acierta en el 57.8% de los casos.\n",
        "\n",
        "**Precision**: 1.0 → Cuando predice \"positiva\", no se equivoca. Pero...\n",
        "\n",
        "**Recall**: 0.111 → Solo detecta el 11% de los casos realmente positivos.\n",
        "\n",
        "**F1 Score**: 0.2 → Es bajo porque, aunque la precisión es perfecta, el recall es muy pobre.\n",
        "\n",
        "**ROC AUC**: 0.83 → Muestra que el modelo distingue bien entre clases en general, aunque no prediga correctamente."
      ],
      "metadata": {
        "id": "4kNqFOtboZ8J"
      }
    },
    {
      "cell_type": "code",
      "source": [
        "         Predicted\n",
        "         0    |   1\n",
        "       -------------\n",
        "    0 |  10   |   0    ← Verdaderos negativos (perfecto)\n",
        "    1 |   8   |   1    ← Falla en detectar positivos\n"
      ],
      "metadata": {
        "id": "zKOJdNvBoi0d"
      },
      "execution_count": null,
      "outputs": []
    },
    {
      "cell_type": "markdown",
      "source": [
        "✅ Lo bueno: predice con certeza cuando dice \"positivo\".\n",
        "\n",
        "❌ Lo malo: ignora casi todos los positivos. Se inclina demasiado por la clase 0 (negativa)."
      ],
      "metadata": {
        "id": "iOvaOeBsoxHl"
      }
    },
    {
      "cell_type": "markdown",
      "source": [
        "# 🔍 SVM (Support Vector Machine)"
      ],
      "metadata": {
        "id": "dzKYt405o0KE"
      }
    },
    {
      "cell_type": "markdown",
      "source": [
        "**Accuracy**: 0.47 → Acierta menos de la mitad.\n",
        "\n",
        "**Precision**: 0.46 → Solo 46% de las veces que predice positivo, acierta.\n",
        "\n",
        "**Recall**: 0.77 → Detecta el 77% de los positivos reales.\n",
        "\n",
        "**F1 Score**: 0.58 → Mejor balance que Random Forest.\n",
        "\n",
        "**ROC AUC**: 0.6 → Baja capacidad de separación entre clases."
      ],
      "metadata": {
        "id": "jvo6eOXTo52w"
      }
    },
    {
      "cell_type": "code",
      "source": [
        "         Predicted\n",
        "         0    |   1\n",
        "       -------------\n",
        "    0 |   2   |   8    ← Muchos negativos mal clasificados\n",
        "    1 |   2   |   7    ← Acierta con la mayoría de los positivos\n"
      ],
      "metadata": {
        "id": "GNC8J9l3pAfc"
      },
      "execution_count": null,
      "outputs": []
    },
    {
      "cell_type": "markdown",
      "source": [
        "✅ Lo bueno: detecta muchos positivos (recall alto).\n",
        "\n",
        "❌ Lo malo: confunde negativos como si fueran positivos (precisión baja)."
      ],
      "metadata": {
        "id": "IB19EY6apDQd"
      }
    },
    {
      "cell_type": "markdown",
      "source": [
        "| Modelo           | ¿Qué hace mejor?                | ¿Qué hace mal?                          |\n",
        "| ---------------- | ------------------------------- | --------------------------------------- |\n",
        "| **RandomForest** | Alta precisión, buen ROC AUC    | Casi no detecta positivos (bajo recall) |\n",
        "| **SVM**          | Alto recall (detecta positivos) | Muchos falsos positivos, bajo accuracy  |\n"
      ],
      "metadata": {
        "id": "N4Mq7XPTpMSH"
      }
    }
  ]
}